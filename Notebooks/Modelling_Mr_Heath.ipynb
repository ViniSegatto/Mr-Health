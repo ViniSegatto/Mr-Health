{
  "nbformat": 4,
  "nbformat_minor": 0,
  "metadata": {
    "colab": {
      "provenance": []
    },
    "kernelspec": {
      "name": "python3",
      "display_name": "Python 3"
    },
    "language_info": {
      "name": "python"
    }
  },
  "cells": [
    {
      "cell_type": "markdown",
      "source": [
        "## Importando as Bibliotecas necessarias"
      ],
      "metadata": {
        "id": "muCDhvTqWto2"
      }
    },
    {
      "cell_type": "code",
      "source": [
        "import pandas as pd\n",
        "import numpy as np\n",
        "from summarytools import dfSummary\n",
        "from scipy import stats\n",
        "from scipy.stats import mode\n",
        "import matplotlib.pyplot as plt\n",
        "import seaborn as sns\n",
        "pd.set_option('display.max_columns', None)\n",
        "\n",
        "from sklearn.model_selection import train_test_split, cross_val_score\n",
        "from xgboost import XGBRegressor\n",
        "from lightgbm import LGBMRegressor\n",
        "from catboost import CatBoostRegressor\n",
        "from sklearn.tree import DecisionTreeRegressor\n",
        "from sklearn.ensemble import AdaBoostRegressor\n",
        "from sklearn.metrics import mean_squared_error, mean_absolute_error, r2_score"
      ],
      "metadata": {
        "id": "T0ZDIsDrl2zt"
      },
      "execution_count": 1,
      "outputs": []
    },
    {
      "cell_type": "markdown",
      "source": [
        "## Extraindo os Dados"
      ],
      "metadata": {
        "id": "WUFwYLrcn1tz"
      }
    },
    {
      "cell_type": "code",
      "execution_count": 2,
      "metadata": {
        "id": "B3mhmscvWYTD"
      },
      "outputs": [],
      "source": [
        "df = pd.read_excel('/content/PEDIDO-_1__.xlsx')\n",
        "df2 = pd.read_excel('/content/ITEM_PEDIDO-_2_ _.xlsx')\n",
        "df3 = pd.read_excel('/content/ITENS-_3___.xlsx')"
      ]
    },
    {
      "cell_type": "code",
      "source": [
        "df = df.drop(columns=['Unnamed: 0'])\n",
        "df['DATA'] = pd.to_datetime(df['DATA'])"
      ],
      "metadata": {
        "id": "mzWcG0G-l-S8"
      },
      "execution_count": 3,
      "outputs": []
    },
    {
      "cell_type": "code",
      "source": [
        "df2 = df2.drop(columns=['Unnamed: 0'])"
      ],
      "metadata": {
        "id": "td6XvKO6mDxK"
      },
      "execution_count": 4,
      "outputs": []
    },
    {
      "cell_type": "code",
      "source": [
        "df3.columns = ['ID_ITEM', 'Valor_Item']"
      ],
      "metadata": {
        "id": "8Gez8w_MmHhi"
      },
      "execution_count": 5,
      "outputs": []
    },
    {
      "cell_type": "code",
      "source": [
        "df_merged = pd.merge(pd.merge(df, df2, on='ID_PEDIDO', how='inner'), df3, on='ID_ITEM', how='left')\n",
        "\n",
        "df_merged['VALOR_TOTAL'] = df_merged['QUANTIDADE'] * df_merged['Valor_Item']\n",
        "\n",
        "new_column_order = ['ID_PEDIDO', 'DATA', 'ID_ITEM', 'QUANTIDADE', 'Valor_Item', 'VALOR_TOTAL']\n",
        "df_merged = df_merged[new_column_order]\n",
        "\n",
        "df_merged.head()"
      ],
      "metadata": {
        "colab": {
          "base_uri": "https://localhost:8080/",
          "height": 206
        },
        "id": "kqR1sVY7mLwD",
        "outputId": "55cafb68-c52a-490e-acbc-d572eddb773d"
      },
      "execution_count": 6,
      "outputs": [
        {
          "output_type": "execute_result",
          "data": {
            "text/plain": [
              "   ID_PEDIDO       DATA ID_ITEM  QUANTIDADE  Valor_Item  VALOR_TOTAL\n",
              "0  120210601 2021-06-01  item C           4          20           80\n",
              "1  220210601 2021-06-01  item A           3          10           30\n",
              "2  320210604 2021-06-04  item C           1          20           20\n",
              "3  420210604 2021-06-04  item B           4          15           60\n",
              "4  420210604 2021-06-04  item C           2          20           40"
            ],
            "text/html": [
              "\n",
              "  <div id=\"df-49936ade-0c77-45a4-82c9-30a4a12b4c6f\" class=\"colab-df-container\">\n",
              "    <div>\n",
              "<style scoped>\n",
              "    .dataframe tbody tr th:only-of-type {\n",
              "        vertical-align: middle;\n",
              "    }\n",
              "\n",
              "    .dataframe tbody tr th {\n",
              "        vertical-align: top;\n",
              "    }\n",
              "\n",
              "    .dataframe thead th {\n",
              "        text-align: right;\n",
              "    }\n",
              "</style>\n",
              "<table border=\"1\" class=\"dataframe\">\n",
              "  <thead>\n",
              "    <tr style=\"text-align: right;\">\n",
              "      <th></th>\n",
              "      <th>ID_PEDIDO</th>\n",
              "      <th>DATA</th>\n",
              "      <th>ID_ITEM</th>\n",
              "      <th>QUANTIDADE</th>\n",
              "      <th>Valor_Item</th>\n",
              "      <th>VALOR_TOTAL</th>\n",
              "    </tr>\n",
              "  </thead>\n",
              "  <tbody>\n",
              "    <tr>\n",
              "      <th>0</th>\n",
              "      <td>120210601</td>\n",
              "      <td>2021-06-01</td>\n",
              "      <td>item C</td>\n",
              "      <td>4</td>\n",
              "      <td>20</td>\n",
              "      <td>80</td>\n",
              "    </tr>\n",
              "    <tr>\n",
              "      <th>1</th>\n",
              "      <td>220210601</td>\n",
              "      <td>2021-06-01</td>\n",
              "      <td>item A</td>\n",
              "      <td>3</td>\n",
              "      <td>10</td>\n",
              "      <td>30</td>\n",
              "    </tr>\n",
              "    <tr>\n",
              "      <th>2</th>\n",
              "      <td>320210604</td>\n",
              "      <td>2021-06-04</td>\n",
              "      <td>item C</td>\n",
              "      <td>1</td>\n",
              "      <td>20</td>\n",
              "      <td>20</td>\n",
              "    </tr>\n",
              "    <tr>\n",
              "      <th>3</th>\n",
              "      <td>420210604</td>\n",
              "      <td>2021-06-04</td>\n",
              "      <td>item B</td>\n",
              "      <td>4</td>\n",
              "      <td>15</td>\n",
              "      <td>60</td>\n",
              "    </tr>\n",
              "    <tr>\n",
              "      <th>4</th>\n",
              "      <td>420210604</td>\n",
              "      <td>2021-06-04</td>\n",
              "      <td>item C</td>\n",
              "      <td>2</td>\n",
              "      <td>20</td>\n",
              "      <td>40</td>\n",
              "    </tr>\n",
              "  </tbody>\n",
              "</table>\n",
              "</div>\n",
              "    <div class=\"colab-df-buttons\">\n",
              "\n",
              "  <div class=\"colab-df-container\">\n",
              "    <button class=\"colab-df-convert\" onclick=\"convertToInteractive('df-49936ade-0c77-45a4-82c9-30a4a12b4c6f')\"\n",
              "            title=\"Convert this dataframe to an interactive table.\"\n",
              "            style=\"display:none;\">\n",
              "\n",
              "  <svg xmlns=\"http://www.w3.org/2000/svg\" height=\"24px\" viewBox=\"0 -960 960 960\">\n",
              "    <path d=\"M120-120v-720h720v720H120Zm60-500h600v-160H180v160Zm220 220h160v-160H400v160Zm0 220h160v-160H400v160ZM180-400h160v-160H180v160Zm440 0h160v-160H620v160ZM180-180h160v-160H180v160Zm440 0h160v-160H620v160Z\"/>\n",
              "  </svg>\n",
              "    </button>\n",
              "\n",
              "  <style>\n",
              "    .colab-df-container {\n",
              "      display:flex;\n",
              "      gap: 12px;\n",
              "    }\n",
              "\n",
              "    .colab-df-convert {\n",
              "      background-color: #E8F0FE;\n",
              "      border: none;\n",
              "      border-radius: 50%;\n",
              "      cursor: pointer;\n",
              "      display: none;\n",
              "      fill: #1967D2;\n",
              "      height: 32px;\n",
              "      padding: 0 0 0 0;\n",
              "      width: 32px;\n",
              "    }\n",
              "\n",
              "    .colab-df-convert:hover {\n",
              "      background-color: #E2EBFA;\n",
              "      box-shadow: 0px 1px 2px rgba(60, 64, 67, 0.3), 0px 1px 3px 1px rgba(60, 64, 67, 0.15);\n",
              "      fill: #174EA6;\n",
              "    }\n",
              "\n",
              "    .colab-df-buttons div {\n",
              "      margin-bottom: 4px;\n",
              "    }\n",
              "\n",
              "    [theme=dark] .colab-df-convert {\n",
              "      background-color: #3B4455;\n",
              "      fill: #D2E3FC;\n",
              "    }\n",
              "\n",
              "    [theme=dark] .colab-df-convert:hover {\n",
              "      background-color: #434B5C;\n",
              "      box-shadow: 0px 1px 3px 1px rgba(0, 0, 0, 0.15);\n",
              "      filter: drop-shadow(0px 1px 2px rgba(0, 0, 0, 0.3));\n",
              "      fill: #FFFFFF;\n",
              "    }\n",
              "  </style>\n",
              "\n",
              "    <script>\n",
              "      const buttonEl =\n",
              "        document.querySelector('#df-49936ade-0c77-45a4-82c9-30a4a12b4c6f button.colab-df-convert');\n",
              "      buttonEl.style.display =\n",
              "        google.colab.kernel.accessAllowed ? 'block' : 'none';\n",
              "\n",
              "      async function convertToInteractive(key) {\n",
              "        const element = document.querySelector('#df-49936ade-0c77-45a4-82c9-30a4a12b4c6f');\n",
              "        const dataTable =\n",
              "          await google.colab.kernel.invokeFunction('convertToInteractive',\n",
              "                                                    [key], {});\n",
              "        if (!dataTable) return;\n",
              "\n",
              "        const docLinkHtml = 'Like what you see? Visit the ' +\n",
              "          '<a target=\"_blank\" href=https://colab.research.google.com/notebooks/data_table.ipynb>data table notebook</a>'\n",
              "          + ' to learn more about interactive tables.';\n",
              "        element.innerHTML = '';\n",
              "        dataTable['output_type'] = 'display_data';\n",
              "        await google.colab.output.renderOutput(dataTable, element);\n",
              "        const docLink = document.createElement('div');\n",
              "        docLink.innerHTML = docLinkHtml;\n",
              "        element.appendChild(docLink);\n",
              "      }\n",
              "    </script>\n",
              "  </div>\n",
              "\n",
              "\n",
              "<div id=\"df-420d289e-366e-426e-9cbe-3594e45a5ef7\">\n",
              "  <button class=\"colab-df-quickchart\" onclick=\"quickchart('df-420d289e-366e-426e-9cbe-3594e45a5ef7')\"\n",
              "            title=\"Suggest charts\"\n",
              "            style=\"display:none;\">\n",
              "\n",
              "<svg xmlns=\"http://www.w3.org/2000/svg\" height=\"24px\"viewBox=\"0 0 24 24\"\n",
              "     width=\"24px\">\n",
              "    <g>\n",
              "        <path d=\"M19 3H5c-1.1 0-2 .9-2 2v14c0 1.1.9 2 2 2h14c1.1 0 2-.9 2-2V5c0-1.1-.9-2-2-2zM9 17H7v-7h2v7zm4 0h-2V7h2v10zm4 0h-2v-4h2v4z\"/>\n",
              "    </g>\n",
              "</svg>\n",
              "  </button>\n",
              "\n",
              "<style>\n",
              "  .colab-df-quickchart {\n",
              "      --bg-color: #E8F0FE;\n",
              "      --fill-color: #1967D2;\n",
              "      --hover-bg-color: #E2EBFA;\n",
              "      --hover-fill-color: #174EA6;\n",
              "      --disabled-fill-color: #AAA;\n",
              "      --disabled-bg-color: #DDD;\n",
              "  }\n",
              "\n",
              "  [theme=dark] .colab-df-quickchart {\n",
              "      --bg-color: #3B4455;\n",
              "      --fill-color: #D2E3FC;\n",
              "      --hover-bg-color: #434B5C;\n",
              "      --hover-fill-color: #FFFFFF;\n",
              "      --disabled-bg-color: #3B4455;\n",
              "      --disabled-fill-color: #666;\n",
              "  }\n",
              "\n",
              "  .colab-df-quickchart {\n",
              "    background-color: var(--bg-color);\n",
              "    border: none;\n",
              "    border-radius: 50%;\n",
              "    cursor: pointer;\n",
              "    display: none;\n",
              "    fill: var(--fill-color);\n",
              "    height: 32px;\n",
              "    padding: 0;\n",
              "    width: 32px;\n",
              "  }\n",
              "\n",
              "  .colab-df-quickchart:hover {\n",
              "    background-color: var(--hover-bg-color);\n",
              "    box-shadow: 0 1px 2px rgba(60, 64, 67, 0.3), 0 1px 3px 1px rgba(60, 64, 67, 0.15);\n",
              "    fill: var(--button-hover-fill-color);\n",
              "  }\n",
              "\n",
              "  .colab-df-quickchart-complete:disabled,\n",
              "  .colab-df-quickchart-complete:disabled:hover {\n",
              "    background-color: var(--disabled-bg-color);\n",
              "    fill: var(--disabled-fill-color);\n",
              "    box-shadow: none;\n",
              "  }\n",
              "\n",
              "  .colab-df-spinner {\n",
              "    border: 2px solid var(--fill-color);\n",
              "    border-color: transparent;\n",
              "    border-bottom-color: var(--fill-color);\n",
              "    animation:\n",
              "      spin 1s steps(1) infinite;\n",
              "  }\n",
              "\n",
              "  @keyframes spin {\n",
              "    0% {\n",
              "      border-color: transparent;\n",
              "      border-bottom-color: var(--fill-color);\n",
              "      border-left-color: var(--fill-color);\n",
              "    }\n",
              "    20% {\n",
              "      border-color: transparent;\n",
              "      border-left-color: var(--fill-color);\n",
              "      border-top-color: var(--fill-color);\n",
              "    }\n",
              "    30% {\n",
              "      border-color: transparent;\n",
              "      border-left-color: var(--fill-color);\n",
              "      border-top-color: var(--fill-color);\n",
              "      border-right-color: var(--fill-color);\n",
              "    }\n",
              "    40% {\n",
              "      border-color: transparent;\n",
              "      border-right-color: var(--fill-color);\n",
              "      border-top-color: var(--fill-color);\n",
              "    }\n",
              "    60% {\n",
              "      border-color: transparent;\n",
              "      border-right-color: var(--fill-color);\n",
              "    }\n",
              "    80% {\n",
              "      border-color: transparent;\n",
              "      border-right-color: var(--fill-color);\n",
              "      border-bottom-color: var(--fill-color);\n",
              "    }\n",
              "    90% {\n",
              "      border-color: transparent;\n",
              "      border-bottom-color: var(--fill-color);\n",
              "    }\n",
              "  }\n",
              "</style>\n",
              "\n",
              "  <script>\n",
              "    async function quickchart(key) {\n",
              "      const quickchartButtonEl =\n",
              "        document.querySelector('#' + key + ' button');\n",
              "      quickchartButtonEl.disabled = true;  // To prevent multiple clicks.\n",
              "      quickchartButtonEl.classList.add('colab-df-spinner');\n",
              "      try {\n",
              "        const charts = await google.colab.kernel.invokeFunction(\n",
              "            'suggestCharts', [key], {});\n",
              "      } catch (error) {\n",
              "        console.error('Error during call to suggestCharts:', error);\n",
              "      }\n",
              "      quickchartButtonEl.classList.remove('colab-df-spinner');\n",
              "      quickchartButtonEl.classList.add('colab-df-quickchart-complete');\n",
              "    }\n",
              "    (() => {\n",
              "      let quickchartButtonEl =\n",
              "        document.querySelector('#df-420d289e-366e-426e-9cbe-3594e45a5ef7 button');\n",
              "      quickchartButtonEl.style.display =\n",
              "        google.colab.kernel.accessAllowed ? 'block' : 'none';\n",
              "    })();\n",
              "  </script>\n",
              "</div>\n",
              "\n",
              "    </div>\n",
              "  </div>\n"
            ],
            "application/vnd.google.colaboratory.intrinsic+json": {
              "type": "dataframe",
              "variable_name": "df_merged",
              "summary": "{\n  \"name\": \"df_merged\",\n  \"rows\": 295,\n  \"fields\": [\n    {\n      \"column\": \"ID_PEDIDO\",\n      \"properties\": {\n        \"dtype\": \"number\",\n        \"std\": 4263868747,\n        \"min\": 120210601,\n        \"max\": 14720210901,\n        \"num_unique_values\": 181,\n        \"samples\": [\n          1520210613,\n          3420210626,\n          12720210815\n        ],\n        \"semantic_type\": \"\",\n        \"description\": \"\"\n      }\n    },\n    {\n      \"column\": \"DATA\",\n      \"properties\": {\n        \"dtype\": \"date\",\n        \"min\": \"2021-06-01 00:00:00\",\n        \"max\": \"2021-09-01 00:00:00\",\n        \"num_unique_values\": 81,\n        \"samples\": [\n          \"2021-07-08 00:00:00\",\n          \"2021-06-01 00:00:00\",\n          \"2021-06-30 00:00:00\"\n        ],\n        \"semantic_type\": \"\",\n        \"description\": \"\"\n      }\n    },\n    {\n      \"column\": \"ID_ITEM\",\n      \"properties\": {\n        \"dtype\": \"category\",\n        \"num_unique_values\": 4,\n        \"samples\": [\n          \"item A\",\n          \"item D\",\n          \"item C\"\n        ],\n        \"semantic_type\": \"\",\n        \"description\": \"\"\n      }\n    },\n    {\n      \"column\": \"QUANTIDADE\",\n      \"properties\": {\n        \"dtype\": \"number\",\n        \"std\": 1,\n        \"min\": 1,\n        \"max\": 5,\n        \"num_unique_values\": 5,\n        \"samples\": [\n          3,\n          5,\n          1\n        ],\n        \"semantic_type\": \"\",\n        \"description\": \"\"\n      }\n    },\n    {\n      \"column\": \"Valor_Item\",\n      \"properties\": {\n        \"dtype\": \"number\",\n        \"std\": 5,\n        \"min\": 10,\n        \"max\": 25,\n        \"num_unique_values\": 4,\n        \"samples\": [\n          10,\n          25,\n          20\n        ],\n        \"semantic_type\": \"\",\n        \"description\": \"\"\n      }\n    },\n    {\n      \"column\": \"VALOR_TOTAL\",\n      \"properties\": {\n        \"dtype\": \"number\",\n        \"std\": 31,\n        \"min\": 10,\n        \"max\": 125,\n        \"num_unique_values\": 13,\n        \"samples\": [\n          100,\n          10,\n          80\n        ],\n        \"semantic_type\": \"\",\n        \"description\": \"\"\n      }\n    }\n  ]\n}"
            }
          },
          "metadata": {},
          "execution_count": 6
        }
      ]
    },
    {
      "cell_type": "code",
      "source": [
        "dfSummary(df_merged)"
      ],
      "metadata": {
        "colab": {
          "base_uri": "https://localhost:8080/",
          "height": 729
        },
        "id": "7Bu9wYQWmOzB",
        "outputId": "b52cbbaf-df08-4f42-d07c-aac39b2e0828"
      },
      "execution_count": 7,
      "outputs": [
        {
          "output_type": "execute_result",
          "data": {
            "text/plain": [
              "<pandas.io.formats.style.Styler at 0x7c7efc587f40>"
            ],
            "text/html": [
              "<style type=\"text/css\">\n",
              "#T_773cb thead>tr>th {\n",
              "  text-align: left;\n",
              "}\n",
              "#T_773cb_row0_col0, #T_773cb_row1_col0, #T_773cb_row2_col0, #T_773cb_row3_col0, #T_773cb_row4_col0, #T_773cb_row5_col0 {\n",
              "  text-align: left;\n",
              "  font-size: 12px;\n",
              "  vertical-align: middle;\n",
              "  width: 5%;\n",
              "  max-width: 50px;\n",
              "  min-width: 20px;\n",
              "}\n",
              "#T_773cb_row0_col1, #T_773cb_row1_col1, #T_773cb_row2_col1, #T_773cb_row3_col1, #T_773cb_row4_col1, #T_773cb_row5_col1 {\n",
              "  text-align: left;\n",
              "  font-size: 12px;\n",
              "  vertical-align: middle;\n",
              "  width: 15%;\n",
              "  max-width: 200px;\n",
              "  min-width: 100px;\n",
              "  word-break: break-word;\n",
              "}\n",
              "#T_773cb_row0_col2, #T_773cb_row1_col2, #T_773cb_row2_col2, #T_773cb_row3_col2, #T_773cb_row4_col2, #T_773cb_row5_col2 {\n",
              "  text-align: left;\n",
              "  font-size: 12px;\n",
              "  vertical-align: middle;\n",
              "  width: 30%;\n",
              "  min-width: 100px;\n",
              "}\n",
              "#T_773cb_row0_col3, #T_773cb_row1_col3, #T_773cb_row2_col3, #T_773cb_row3_col3, #T_773cb_row4_col3, #T_773cb_row5_col3 {\n",
              "  text-align: left;\n",
              "  font-size: 12px;\n",
              "  vertical-align: middle;\n",
              "  width: 25%;\n",
              "  min-width: 100px;\n",
              "}\n",
              "#T_773cb_row0_col4, #T_773cb_row1_col4, #T_773cb_row2_col4, #T_773cb_row3_col4, #T_773cb_row4_col4, #T_773cb_row5_col4 {\n",
              "  text-align: left;\n",
              "  font-size: 12px;\n",
              "  vertical-align: middle;\n",
              "  width: 20%;\n",
              "  min-width: 150px;\n",
              "}\n",
              "#T_773cb_row0_col5, #T_773cb_row1_col5, #T_773cb_row2_col5, #T_773cb_row3_col5, #T_773cb_row4_col5, #T_773cb_row5_col5 {\n",
              "  text-align: left;\n",
              "  font-size: 12px;\n",
              "  vertical-align: middle;\n",
              "  width: 10%;\n",
              "}\n",
              "</style>\n",
              "<table id=\"T_773cb\" class=\"dataframe\">\n",
              "  <caption><strong>Data Frame Summary</strong><br>df_merged<br>Dimensions: 295 x 6<br>Duplicates: 4</caption>\n",
              "  <thead>\n",
              "    <tr>\n",
              "      <th id=\"T_773cb_level0_col0\" class=\"col_heading level0 col0\" >No</th>\n",
              "      <th id=\"T_773cb_level0_col1\" class=\"col_heading level0 col1\" >Variable</th>\n",
              "      <th id=\"T_773cb_level0_col2\" class=\"col_heading level0 col2\" >Stats / Values</th>\n",
              "      <th id=\"T_773cb_level0_col3\" class=\"col_heading level0 col3\" >Freqs / (% of Valid)</th>\n",
              "      <th id=\"T_773cb_level0_col4\" class=\"col_heading level0 col4\" >Graph</th>\n",
              "      <th id=\"T_773cb_level0_col5\" class=\"col_heading level0 col5\" >Missing</th>\n",
              "    </tr>\n",
              "  </thead>\n",
              "  <tbody>\n",
              "    <tr>\n",
              "      <td id=\"T_773cb_row0_col0\" class=\"data row0 col0\" >1</td>\n",
              "      <td id=\"T_773cb_row0_col1\" class=\"data row0 col1\" ><strong>ID_PEDIDO</strong><br>[int64]</td>\n",
              "      <td id=\"T_773cb_row0_col2\" class=\"data row0 col2\" >Mean (sd) : 7675464960.0 (4263868747.9)<br>min < med < max:<br>120210601.0 < 7920210718.0 < 14720210901.0<br>IQR (CV) : 7050000180.5 (1.8)</td>\n",
              "      <td id=\"T_773cb_row0_col3\" class=\"data row0 col3\" >181 distinct values</td>\n",
              "      <td id=\"T_773cb_row0_col4\" class=\"data row0 col4\" ><img src = \"data:image/png;base64, iVBORw0KGgoAAAANSUhEUgAAAKoAAABGCAYAAABc8A97AAAAOXRFWHRTb2Z0d2FyZQBNYXRwbG90bGliIHZlcnNpb24zLjcuMSwgaHR0cHM6Ly9tYXRwbG90bGliLm9yZy/bCgiHAAAACXBIWXMAAA9hAAAPYQGoP6dpAAACtElEQVR4nO3dT4riQBSA8Vdjq/EPEXHQnRcYmIVLDzGHnSO04Am8gTshSMRMB2PMrHoY6LbVlGXyyu+3leoW+ap86QTaFEUhQN19q/oNANd4qfoNwB/GmI6ItEouPxRF8XbuRULFXRhjOqPR6FcYhsMy63e73dYY8/tcrN6Garm7RS7scHzQCsNwOJ/P3waDQXrLwjiOg+VyOYyiqCUizxOq7e4WubzD8bnBYJCOx+M/JZZ2vnrRy1DFYneLXLfD8Vi+hioiVrtb5MIOx2Px5ymoQKhQgVChAqFCBUKFCl5f9T8jl7cxq0SoHnF9G7NKF0P1dYfWleXnHfb7/fF8Pt+5uI1ZpS9D9XmH1pHt551lWZDn+Y92u/3q4jZmlS6dqE4fNPCVxalY+kQUEVmv18PVatU9Ho+NEr+71q6aUV09aOAjm1PR9kTcbrfeft5cTN1f6W8hn09EW4TqSJlvoapPxDzPmyISGmPKLA9Pp1Pzzm/pH0KFiIgkSdLMsuzndDptNBqNm+fj97ElTdNXESn7xNpZhHqGxeni9GRx5XA4vARB0J3NZulkMtneut712EKon7A5XVyfLK71er1SF86uxxanoVrOPCIV3TCwOV24IHLDWai2M49I9TcMypwuVV8Q+cpZqLYzTxzHwWKxGEdR9N0Ys7txuco5Eec5n1HLzjzPPCfio9peTDEn4n+1DfUdcyJEeMIfShAqVCBUqECoUIFQoQKhQgVChQqEChUIFSoQKlQgVKhAqFCBUKECoUIFQoUKhAoVCBUqECpUIFSoQKhQgVChAqFCBUKFCoQKFQgVKhAqVCBUqECoUIFQoQKhQgVChQqEChUIFSoQKlQgVKhAqFCBUKECoUIFQoUKV/2fqTiOg1t/8H6/D0REkiQJNptN95Hrtf5ure/bdv01ff0FPQWf2TeT1ZwAAAAASUVORK5CYII=\"></img></td>\n",
              "      <td id=\"T_773cb_row0_col5\" class=\"data row0 col5\" >0<br>(0.0%)</td>\n",
              "    </tr>\n",
              "    <tr>\n",
              "      <td id=\"T_773cb_row1_col0\" class=\"data row1 col0\" >2</td>\n",
              "      <td id=\"T_773cb_row1_col1\" class=\"data row1 col1\" ><strong>DATA</strong><br>[datetime64[ns]]</td>\n",
              "      <td id=\"T_773cb_row1_col2\" class=\"data row1 col2\" >Min: 2021-06-01<br>Max: 2021-09-01<br>Duration: 92 days</td>\n",
              "      <td id=\"T_773cb_row1_col3\" class=\"data row1 col3\" >81 distinct values</td>\n",
              "      <td id=\"T_773cb_row1_col4\" class=\"data row1 col4\" ><img src = \"data:image/png;base64, iVBORw0KGgoAAAANSUhEUgAAAJsAAABNCAYAAACxBha+AAAAOXRFWHRTb2Z0d2FyZQBNYXRwbG90bGliIHZlcnNpb24zLjcuMSwgaHR0cHM6Ly9tYXRwbG90bGliLm9yZy/bCgiHAAAACXBIWXMAAA9hAAAPYQGoP6dpAAACuElEQVR4nO3csW7aUBiG4f9AiEwS2UJpYWPpWKkDYy6iF9tLaKRcQYYundiQEDLCDcKx6ZJuheQc7A9sv89+oiP0ysf2b8Xt93sDFHrn3gC6g9ggc3XuDTSVc25oZtcBS3f7/f6l6v00AbEFcM4N7+/vv8dxPPJdu16vV865H10MjtjCXMdxPHp4eHhJkmT70UVpmkZPT0+j5XJ5bWbEho9LkmQ7Ho//eC4b1rKZBuABATLEBhligwyxQYbYIENskCE2yBAbZIgNMp2eIJwwTI/LshxUvZ+262xspwzT8zyPiqL4ut1uf5qZ77iqszobmwUO083M5vP56Pn5+eb19bVf1+ba6KJiO+FY65lZ6bkmLstykCTJyneYvlqt5MN08W9jVsN3dxcTW+ixVhTFIMuyL3d3d797vV7+0XVNOgrVv41ZPd/dXUxsFnisvR1pn2ez2a/JZLLyXNeUo1D626RpGj0+Po6Xy+Un59zac68Hr4iXFJuZ+X8j9u9Iu729DVrXJKrfJsuyQZ7n36bTab/f73vdzx67Il5cbDi/3W53FUXRzWw22/peEY99iUxsOMj3ivjm4InBBAEyxAYZYoMMsUGG2CBTy9No4GiFLylarvLYQkcrTRofIUwdV7ZTRitNGR8hQG0vdUNHK2gvJghiRVEMzCx2zvksa8X9LLEJhQ6423I/S2xCoQPuttzPEtsZdOFzqP/hpS5kjl7ZeDmLKh2MjZezqNqxKxsvZ1Gpdx8QeDmLqvCAABligwyxQYbYIENskCE2yBAbZIgNMsQGGWKDDLFBhtggQ2yQITbIEBtkiA0yxAYZYoMMsUGG2CBDbJAhNsgQG2SIDTLEBhligwyxQYbYIENskCE2yBAbZIgNMsQGmXf/82SappHPH9xsNpGZWZZl0WKxuGnbuibtVb3uvVb+ArLnigToe2fEAAAAAElFTkSuQmCC\"></img></td>\n",
              "      <td id=\"T_773cb_row1_col5\" class=\"data row1 col5\" >0<br>(0.0%)</td>\n",
              "    </tr>\n",
              "    <tr>\n",
              "      <td id=\"T_773cb_row2_col0\" class=\"data row2 col0\" >3</td>\n",
              "      <td id=\"T_773cb_row2_col1\" class=\"data row2 col1\" ><strong>ID_ITEM</strong><br>[object]</td>\n",
              "      <td id=\"T_773cb_row2_col2\" class=\"data row2 col2\" >1. item D<br>2. item B<br>3. item C<br>4. item A</td>\n",
              "      <td id=\"T_773cb_row2_col3\" class=\"data row2 col3\" >83 (28.1%)<br>73 (24.7%)<br>72 (24.4%)<br>67 (22.7%)</td>\n",
              "      <td id=\"T_773cb_row2_col4\" class=\"data row2 col4\" ><img src = \"data:image/png;base64, iVBORw0KGgoAAAANSUhEUgAAAJsAAABcCAYAAAB5jMeAAAAAOXRFWHRTb2Z0d2FyZQBNYXRwbG90bGliIHZlcnNpb24zLjcuMSwgaHR0cHM6Ly9tYXRwbG90bGliLm9yZy/bCgiHAAAACXBIWXMAAA9hAAAPYQGoP6dpAAAB3ElEQVR4nO3bQWrbYBSF0aciQjKRMAYvxovIYrsI7cYYa9CETNRBp4HYJb36pZ6zgjf4kJHR7ZZlKUj4sfYB/D/ERkxXVS9V9bT2IQ/4WJblbe0jeFx/PB5fh2E4rH3IveZ5vnZd91Nw29MPw3A4n89v4zi+r33MV2632/M0TYfL5fJUVWLbmL6qahzH99Pp9GvtY+70svYB/B0vCMSIjRixESM2YsRGjNiIERsxYiNGbMSIjRixESM2YsRGTF/159OdtQ+5x1bu5HP9PM/XaZoOtZFPd+Z5vlbVx9p38DifhRPTmfKR4gWBmJZ/Rv1c7kyz6yorqv1pcl1lRbVPLa+rNvFXDPfzgkCM2IgRGzFiI0ZsxIiNGLERIzZixEaM2IgRGzFiI0ZsxIiNmCanfK3dw/dodspnsrc/NgjEmPIR48lGjHUVMdZVxFhXEeNPXWLERozYiBEbMWIjRmzEiI0YsREjNmLERozYiBEbMWIjRmzEWFcRY11FjA0CMdZVxLT2ZPM027Gm1lUWVfvWzLrKomr/WltXNfVGzPfypy4xYiNGbMSIjRixESM2YsRGjNiIERsxYiNGbMSIjRixESM2YppZV7VwA/9WU+sqi6p9s0EgxrqKGC8IxPwGs1jYuZLsWQAAAAAASUVORK5CYII=\"></img></td>\n",
              "      <td id=\"T_773cb_row2_col5\" class=\"data row2 col5\" >0<br>(0.0%)</td>\n",
              "    </tr>\n",
              "    <tr>\n",
              "      <td id=\"T_773cb_row3_col0\" class=\"data row3 col0\" >4</td>\n",
              "      <td id=\"T_773cb_row3_col1\" class=\"data row3 col1\" ><strong>QUANTIDADE</strong><br>[int64]</td>\n",
              "      <td id=\"T_773cb_row3_col2\" class=\"data row3 col2\" >1. 4<br>2. 1<br>3. 5<br>4. 3<br>5. 2</td>\n",
              "      <td id=\"T_773cb_row3_col3\" class=\"data row3 col3\" >67 (22.7%)<br>60 (20.3%)<br>58 (19.7%)<br>57 (19.3%)<br>53 (18.0%)</td>\n",
              "      <td id=\"T_773cb_row3_col4\" class=\"data row3 col4\" ><img src = \"data:image/png;base64, iVBORw0KGgoAAAANSUhEUgAAAJsAAABzCAYAAACPdnBjAAAAOXRFWHRTb2Z0d2FyZQBNYXRwbG90bGliIHZlcnNpb24zLjcuMSwgaHR0cHM6Ly9tYXRwbG90bGliLm9yZy/bCgiHAAAACXBIWXMAAA9hAAAPYQGoP6dpAAACIklEQVR4nO3bwWkbQQCG0VEQJrlICIGLcREpNkWoG2O0h9j4ohycFvyN0LxXwRw+dpll/93tdhtQ+DH7AKxDbGTERmY3xvg1xniafZD/Pm+32/vsQ/A99ufz+ffhcDjNPsgYY2zb9rbb7f4I7jHtD4fD6eXl5f14PH7MPMj1ev15uVxOr6+vT2MMsT2g/RhjHI/Hj+fn57+zDzO+Xuk8KBcEMmIjIzYyYiMjNjJiIyM2MmIjIzYyYiMjNjJiIyM2Mvsxvn7vmX2QezgD32u/bdvb5XI5jTv4vWfbtrcxxufsc/A9/BZOZmc3SsUFgcw9vEa9OhcxfV1lUbWOqesqi6q13MO6avonFxouCGTERkZsZMRGRmxkxEZGbGTERkZsZMRGRmxkxEZGbGSmrqssqtYyfV1lUbUOv4WTsa4i44JAZuZr1OtzMdPWVVZV65myrrKqWtPMdZVV1WJcEMiIjYzYyIiNjNjIiI2M2MiIjYzYyIiNjNjIiI2M2MhMWVdZVa1p2rrKqmo9fgsnY11FxpONjMELGYMXMgYvZHzUJSM2MmIjIzYyYiMjNjJiIyM2MmIjIzYyYiMjNjJiIyM2MtZVZKyryNggkLGuIjPjyeaJtqh8XWVVta50XWVVtbYZ6yqrqkX5qEtGbGTERkZsZMRGRmxkxEZGbGTERkZsZMRGRmxkxEZGbGTSdZVV1drydZVV1bpsEMhYV5FxQSAjNjL/AMcxDjdHGZITAAAAAElFTkSuQmCC\"></img></td>\n",
              "      <td id=\"T_773cb_row3_col5\" class=\"data row3 col5\" >0<br>(0.0%)</td>\n",
              "    </tr>\n",
              "    <tr>\n",
              "      <td id=\"T_773cb_row4_col0\" class=\"data row4 col0\" >5</td>\n",
              "      <td id=\"T_773cb_row4_col1\" class=\"data row4 col1\" ><strong>Valor_Item</strong><br>[int64]</td>\n",
              "      <td id=\"T_773cb_row4_col2\" class=\"data row4 col2\" >1. 25<br>2. 15<br>3. 20<br>4. 10</td>\n",
              "      <td id=\"T_773cb_row4_col3\" class=\"data row4 col3\" >83 (28.1%)<br>73 (24.7%)<br>72 (24.4%)<br>67 (22.7%)</td>\n",
              "      <td id=\"T_773cb_row4_col4\" class=\"data row4 col4\" ><img src = \"data:image/png;base64, iVBORw0KGgoAAAANSUhEUgAAAJsAAABcCAYAAAB5jMeAAAAAOXRFWHRTb2Z0d2FyZQBNYXRwbG90bGliIHZlcnNpb24zLjcuMSwgaHR0cHM6Ly9tYXRwbG90bGliLm9yZy/bCgiHAAAACXBIWXMAAA9hAAAPYQGoP6dpAAAB3ElEQVR4nO3bQWrbYBSF0aciQjKRMAYvxovIYrsI7cYYa9CETNRBp4HYJb36pZ6zgjf4kJHR7ZZlKUj4sfYB/D/ERkxXVS9V9bT2IQ/4WJblbe0jeFx/PB5fh2E4rH3IveZ5vnZd91Nw29MPw3A4n89v4zi+r33MV2632/M0TYfL5fJUVWLbmL6qahzH99Pp9GvtY+70svYB/B0vCMSIjRixESM2YsRGjNiIERsxYiNGbMSIjRixESM2YsRGTF/159OdtQ+5x1bu5HP9PM/XaZoOtZFPd+Z5vlbVx9p38DifhRPTmfKR4gWBmJZ/Rv1c7kyz6yorqv1pcl1lRbVPLa+rNvFXDPfzgkCM2IgRGzFiI0ZsxIiNGLERIzZixEaM2IgRGzFiI0ZsxIiNmCanfK3dw/dodspnsrc/NgjEmPIR48lGjHUVMdZVxFhXEeNPXWLERozYiBEbMWIjRmzEiI0YsREjNmLERozYiBEbMWIjRmzEWFcRY11FjA0CMdZVxLT2ZPM027Gm1lUWVfvWzLrKomr/WltXNfVGzPfypy4xYiNGbMSIjRixESM2YsRGjNiIERsxYiNGbMSIjRixESM2YppZV7VwA/9WU+sqi6p9s0EgxrqKGC8IxPwGs1jYuZLsWQAAAAAASUVORK5CYII=\"></img></td>\n",
              "      <td id=\"T_773cb_row4_col5\" class=\"data row4 col5\" >0<br>(0.0%)</td>\n",
              "    </tr>\n",
              "    <tr>\n",
              "      <td id=\"T_773cb_row5_col0\" class=\"data row5 col0\" >6</td>\n",
              "      <td id=\"T_773cb_row5_col1\" class=\"data row5 col1\" ><strong>VALOR_TOTAL</strong><br>[int64]</td>\n",
              "      <td id=\"T_773cb_row5_col2\" class=\"data row5 col2\" >Mean (sd) : 54.1 (31.1)<br>min < med < max:<br>10.0 < 50.0 < 125.0<br>IQR (CV) : 45.0 (1.7)</td>\n",
              "      <td id=\"T_773cb_row5_col3\" class=\"data row5 col3\" >13 distinct values</td>\n",
              "      <td id=\"T_773cb_row5_col4\" class=\"data row5 col4\" ><img src = \"data:image/png;base64, iVBORw0KGgoAAAANSUhEUgAAAKoAAABGCAYAAABc8A97AAAAOXRFWHRTb2Z0d2FyZQBNYXRwbG90bGliIHZlcnNpb24zLjcuMSwgaHR0cHM6Ly9tYXRwbG90bGliLm9yZy/bCgiHAAAACXBIWXMAAA9hAAAPYQGoP6dpAAACrklEQVR4nO3cMY7aQBSA4TcxIAOKLUQEnS8QKQUlTW6Qw6ZNlwIuwA1oEBICI5y1MMapkiZsgJk1zPP+X702FD9rmDe2qapKAN99ePYbAG7RuvYHxpiuiHQsz3+squrF8ljgr/+GaozpDofDb1EUDWxOvt/vt8aY78QKV9f+o3aiKBpMp9OXOI7ze06cpmk4m80Gm82mIyKECidXL/0iInEc56PR6JfF+bsWxwD/4McUVCBUqECoUOGm76gaOS6ribC05pVGhuq6rCbC0ppvGhmqOCyribC05qOmhioiTstqIiyteYUfU1CBUKECoUIFQoUKhAoVCBUqECpUIFSoQKhQgVChAqFChUbP+t+jpt41TKgN0uS7hmsNtSzLtohExhjbU3j7CfdUY+8ari3ULMvaRVF8SZIkCILg7j2hIn5/wn3WxLuGawv1eDy2wjDsTSaTfDweb+893vdPOB6r9u+o/X6fzctwxvIUVCBUqECoUIFQoQKhQgVChQqMUF/hOFVjovbGCPUC16nabrc7GGN+iIjNRI7ILyDUC1ymaqvV6uN8Pv+aJMknm8gZG1/mdagOl9/ofD63XV/fZqq23W67tpEzNn6dt6G6XH6LogjLsvyc5/lPEbEd3zpxGB0zNr7A21BdLr/L5XKwWCx6p9MpqOv94bG8DfUP28tvXe8Hz8E6KlQgVKhAqFCBUKECoUIFQoUKhAoVCBUqECpUIFSoQKhQwftZ/3vjeGfBm2xvtFXnkwQJ1SOudxY8c3tj3U8SJFSPuD6v68nbG2t9kiChesh207UP2xvrepIgP6agAqFCBUKFCoQKFQgVKhAqVCBUqECoUIFQoQKhQgVChQo3zfrTNA3vPfHhcAhFRLIsC9frde+Rx2t97We+7zRNw7IsW+K2xbBl08otx/wGbqiGGEGBpQMAAAAASUVORK5CYII=\"></img></td>\n",
              "      <td id=\"T_773cb_row5_col5\" class=\"data row5 col5\" >0<br>(0.0%)</td>\n",
              "    </tr>\n",
              "  </tbody>\n",
              "</table>\n"
            ]
          },
          "metadata": {},
          "execution_count": 7
        }
      ]
    },
    {
      "cell_type": "markdown",
      "source": [
        "Valores nulos e duplicados, tipos de dados, entre outros processos já foram tratados no notebook 'EDA_Mr_Health.ipynb'.\n",
        "Iremos realizar daqui para frente, um refinamento com propósitos de modelagem, afinal, a limpeza inicial foi feita direcionada à análise exploratória de dados."
      ],
      "metadata": {
        "id": "7v0giMhjoxR9"
      }
    },
    {
      "cell_type": "markdown",
      "source": [
        "## Definindo as variaveis numericas.\n",
        "\n",
        "As variáveis numéricas são a chave para desvendar os segredos dos dados.\n",
        "\n",
        "Ao analisá-las, poderemos identificar padrões, tendências e insights valiosos que nos auxiliarão na tomada de decisões mais assertivas."
      ],
      "metadata": {
        "id": "4oW9PTWtoi51"
      }
    },
    {
      "cell_type": "code",
      "source": [
        "features_numericas = df_merged.select_dtypes('number').columns.tolist()\n",
        "categorical_features = df_merged.select_dtypes(['category', 'object']).columns.to_list()\n",
        "\n",
        "print(f'Contem {len(features_numericas)} características numéricas. Eles são: ')\n",
        "print(features_numericas)\n",
        "print(f'Há {len(categorical_features)} variáveis categóricas. São elas: {categorical_features}')\n",
        "print(categorical_features)"
      ],
      "metadata": {
        "colab": {
          "base_uri": "https://localhost:8080/"
        },
        "id": "Tei22s9jofbP",
        "outputId": "354ee4ac-458d-4f2e-864f-c0bd1b9ce380"
      },
      "execution_count": 8,
      "outputs": [
        {
          "output_type": "stream",
          "name": "stdout",
          "text": [
            "Contem 4 características numéricas. Eles são: \n",
            "['ID_PEDIDO', 'QUANTIDADE', 'Valor_Item', 'VALOR_TOTAL']\n",
            "Há 1 variáveis categóricas. São elas: ['ID_ITEM']\n",
            "['ID_ITEM']\n"
          ]
        }
      ]
    },
    {
      "cell_type": "code",
      "source": [
        "print('Cardinalidade das variáveis categóricas: ')\n",
        "for feature in categorical_features:\n",
        "    print(f'{feature} ({df_merged[feature].nunique()})', end=', ')"
      ],
      "metadata": {
        "colab": {
          "base_uri": "https://localhost:8080/"
        },
        "id": "9SrtqCBI6m63",
        "outputId": "5ec44f6c-4fbd-4793-bfe9-4419a2ca1632"
      },
      "execution_count": 9,
      "outputs": [
        {
          "output_type": "stream",
          "name": "stdout",
          "text": [
            "Cardinalidade das variáveis categóricas: \n",
            "ID_ITEM (4), "
          ]
        }
      ]
    },
    {
      "cell_type": "markdown",
      "source": [
        "## Split dos dados em sets de treino, teste e validação\n",
        "\n",
        "1. Os dados de teste são dados que o modelo nunca viu. Por isso, irei realizar o split antes de qualquer coisa. O teste será isolado e utilizado apenas no final para avaliar uma vez o melhor modelo escolhido. Isso garantirá uma avaliação de performance confiável, simulando um ambiente real de produção. Ademais, data leakage também é evitado, aplicando apenas 'transform' neste conjunto.\n",
        "2. Os dados de validação serão utilizados na tunagem de hiperparâmetros para avaliar o modelo treinado em cada configuração. Isso nos ajuda a prevenir o overfitting, evitando decisões baseadas em ajuste excessivo ao conjunto de treinamento."
      ],
      "metadata": {
        "id": "uE7IFWw9qejl"
      }
    },
    {
      "cell_type": "code",
      "source": [
        "one_hot = pd.get_dummies(df_merged['ID_ITEM'])\n",
        "\n",
        "df_one_hot = pd.concat([df_merged, one_hot], axis=1)\n",
        "\n",
        "df_one_hot.head()"
      ],
      "metadata": {
        "colab": {
          "base_uri": "https://localhost:8080/",
          "height": 206
        },
        "id": "UA_1F2z5B4AF",
        "outputId": "bc58861e-a933-4954-e82b-d2b140c3f6b5"
      },
      "execution_count": 10,
      "outputs": [
        {
          "output_type": "execute_result",
          "data": {
            "text/plain": [
              "   ID_PEDIDO       DATA ID_ITEM  QUANTIDADE  Valor_Item  VALOR_TOTAL  item A  \\\n",
              "0  120210601 2021-06-01  item C           4          20           80   False   \n",
              "1  220210601 2021-06-01  item A           3          10           30    True   \n",
              "2  320210604 2021-06-04  item C           1          20           20   False   \n",
              "3  420210604 2021-06-04  item B           4          15           60   False   \n",
              "4  420210604 2021-06-04  item C           2          20           40   False   \n",
              "\n",
              "   item B  item C  item D  \n",
              "0   False    True   False  \n",
              "1   False   False   False  \n",
              "2   False    True   False  \n",
              "3    True   False   False  \n",
              "4   False    True   False  "
            ],
            "text/html": [
              "\n",
              "  <div id=\"df-e27fa572-c5f9-4c60-82e7-f5750d3904a4\" class=\"colab-df-container\">\n",
              "    <div>\n",
              "<style scoped>\n",
              "    .dataframe tbody tr th:only-of-type {\n",
              "        vertical-align: middle;\n",
              "    }\n",
              "\n",
              "    .dataframe tbody tr th {\n",
              "        vertical-align: top;\n",
              "    }\n",
              "\n",
              "    .dataframe thead th {\n",
              "        text-align: right;\n",
              "    }\n",
              "</style>\n",
              "<table border=\"1\" class=\"dataframe\">\n",
              "  <thead>\n",
              "    <tr style=\"text-align: right;\">\n",
              "      <th></th>\n",
              "      <th>ID_PEDIDO</th>\n",
              "      <th>DATA</th>\n",
              "      <th>ID_ITEM</th>\n",
              "      <th>QUANTIDADE</th>\n",
              "      <th>Valor_Item</th>\n",
              "      <th>VALOR_TOTAL</th>\n",
              "      <th>item A</th>\n",
              "      <th>item B</th>\n",
              "      <th>item C</th>\n",
              "      <th>item D</th>\n",
              "    </tr>\n",
              "  </thead>\n",
              "  <tbody>\n",
              "    <tr>\n",
              "      <th>0</th>\n",
              "      <td>120210601</td>\n",
              "      <td>2021-06-01</td>\n",
              "      <td>item C</td>\n",
              "      <td>4</td>\n",
              "      <td>20</td>\n",
              "      <td>80</td>\n",
              "      <td>False</td>\n",
              "      <td>False</td>\n",
              "      <td>True</td>\n",
              "      <td>False</td>\n",
              "    </tr>\n",
              "    <tr>\n",
              "      <th>1</th>\n",
              "      <td>220210601</td>\n",
              "      <td>2021-06-01</td>\n",
              "      <td>item A</td>\n",
              "      <td>3</td>\n",
              "      <td>10</td>\n",
              "      <td>30</td>\n",
              "      <td>True</td>\n",
              "      <td>False</td>\n",
              "      <td>False</td>\n",
              "      <td>False</td>\n",
              "    </tr>\n",
              "    <tr>\n",
              "      <th>2</th>\n",
              "      <td>320210604</td>\n",
              "      <td>2021-06-04</td>\n",
              "      <td>item C</td>\n",
              "      <td>1</td>\n",
              "      <td>20</td>\n",
              "      <td>20</td>\n",
              "      <td>False</td>\n",
              "      <td>False</td>\n",
              "      <td>True</td>\n",
              "      <td>False</td>\n",
              "    </tr>\n",
              "    <tr>\n",
              "      <th>3</th>\n",
              "      <td>420210604</td>\n",
              "      <td>2021-06-04</td>\n",
              "      <td>item B</td>\n",
              "      <td>4</td>\n",
              "      <td>15</td>\n",
              "      <td>60</td>\n",
              "      <td>False</td>\n",
              "      <td>True</td>\n",
              "      <td>False</td>\n",
              "      <td>False</td>\n",
              "    </tr>\n",
              "    <tr>\n",
              "      <th>4</th>\n",
              "      <td>420210604</td>\n",
              "      <td>2021-06-04</td>\n",
              "      <td>item C</td>\n",
              "      <td>2</td>\n",
              "      <td>20</td>\n",
              "      <td>40</td>\n",
              "      <td>False</td>\n",
              "      <td>False</td>\n",
              "      <td>True</td>\n",
              "      <td>False</td>\n",
              "    </tr>\n",
              "  </tbody>\n",
              "</table>\n",
              "</div>\n",
              "    <div class=\"colab-df-buttons\">\n",
              "\n",
              "  <div class=\"colab-df-container\">\n",
              "    <button class=\"colab-df-convert\" onclick=\"convertToInteractive('df-e27fa572-c5f9-4c60-82e7-f5750d3904a4')\"\n",
              "            title=\"Convert this dataframe to an interactive table.\"\n",
              "            style=\"display:none;\">\n",
              "\n",
              "  <svg xmlns=\"http://www.w3.org/2000/svg\" height=\"24px\" viewBox=\"0 -960 960 960\">\n",
              "    <path d=\"M120-120v-720h720v720H120Zm60-500h600v-160H180v160Zm220 220h160v-160H400v160Zm0 220h160v-160H400v160ZM180-400h160v-160H180v160Zm440 0h160v-160H620v160ZM180-180h160v-160H180v160Zm440 0h160v-160H620v160Z\"/>\n",
              "  </svg>\n",
              "    </button>\n",
              "\n",
              "  <style>\n",
              "    .colab-df-container {\n",
              "      display:flex;\n",
              "      gap: 12px;\n",
              "    }\n",
              "\n",
              "    .colab-df-convert {\n",
              "      background-color: #E8F0FE;\n",
              "      border: none;\n",
              "      border-radius: 50%;\n",
              "      cursor: pointer;\n",
              "      display: none;\n",
              "      fill: #1967D2;\n",
              "      height: 32px;\n",
              "      padding: 0 0 0 0;\n",
              "      width: 32px;\n",
              "    }\n",
              "\n",
              "    .colab-df-convert:hover {\n",
              "      background-color: #E2EBFA;\n",
              "      box-shadow: 0px 1px 2px rgba(60, 64, 67, 0.3), 0px 1px 3px 1px rgba(60, 64, 67, 0.15);\n",
              "      fill: #174EA6;\n",
              "    }\n",
              "\n",
              "    .colab-df-buttons div {\n",
              "      margin-bottom: 4px;\n",
              "    }\n",
              "\n",
              "    [theme=dark] .colab-df-convert {\n",
              "      background-color: #3B4455;\n",
              "      fill: #D2E3FC;\n",
              "    }\n",
              "\n",
              "    [theme=dark] .colab-df-convert:hover {\n",
              "      background-color: #434B5C;\n",
              "      box-shadow: 0px 1px 3px 1px rgba(0, 0, 0, 0.15);\n",
              "      filter: drop-shadow(0px 1px 2px rgba(0, 0, 0, 0.3));\n",
              "      fill: #FFFFFF;\n",
              "    }\n",
              "  </style>\n",
              "\n",
              "    <script>\n",
              "      const buttonEl =\n",
              "        document.querySelector('#df-e27fa572-c5f9-4c60-82e7-f5750d3904a4 button.colab-df-convert');\n",
              "      buttonEl.style.display =\n",
              "        google.colab.kernel.accessAllowed ? 'block' : 'none';\n",
              "\n",
              "      async function convertToInteractive(key) {\n",
              "        const element = document.querySelector('#df-e27fa572-c5f9-4c60-82e7-f5750d3904a4');\n",
              "        const dataTable =\n",
              "          await google.colab.kernel.invokeFunction('convertToInteractive',\n",
              "                                                    [key], {});\n",
              "        if (!dataTable) return;\n",
              "\n",
              "        const docLinkHtml = 'Like what you see? Visit the ' +\n",
              "          '<a target=\"_blank\" href=https://colab.research.google.com/notebooks/data_table.ipynb>data table notebook</a>'\n",
              "          + ' to learn more about interactive tables.';\n",
              "        element.innerHTML = '';\n",
              "        dataTable['output_type'] = 'display_data';\n",
              "        await google.colab.output.renderOutput(dataTable, element);\n",
              "        const docLink = document.createElement('div');\n",
              "        docLink.innerHTML = docLinkHtml;\n",
              "        element.appendChild(docLink);\n",
              "      }\n",
              "    </script>\n",
              "  </div>\n",
              "\n",
              "\n",
              "<div id=\"df-a46bc951-f108-4293-ad2b-1314e35ba472\">\n",
              "  <button class=\"colab-df-quickchart\" onclick=\"quickchart('df-a46bc951-f108-4293-ad2b-1314e35ba472')\"\n",
              "            title=\"Suggest charts\"\n",
              "            style=\"display:none;\">\n",
              "\n",
              "<svg xmlns=\"http://www.w3.org/2000/svg\" height=\"24px\"viewBox=\"0 0 24 24\"\n",
              "     width=\"24px\">\n",
              "    <g>\n",
              "        <path d=\"M19 3H5c-1.1 0-2 .9-2 2v14c0 1.1.9 2 2 2h14c1.1 0 2-.9 2-2V5c0-1.1-.9-2-2-2zM9 17H7v-7h2v7zm4 0h-2V7h2v10zm4 0h-2v-4h2v4z\"/>\n",
              "    </g>\n",
              "</svg>\n",
              "  </button>\n",
              "\n",
              "<style>\n",
              "  .colab-df-quickchart {\n",
              "      --bg-color: #E8F0FE;\n",
              "      --fill-color: #1967D2;\n",
              "      --hover-bg-color: #E2EBFA;\n",
              "      --hover-fill-color: #174EA6;\n",
              "      --disabled-fill-color: #AAA;\n",
              "      --disabled-bg-color: #DDD;\n",
              "  }\n",
              "\n",
              "  [theme=dark] .colab-df-quickchart {\n",
              "      --bg-color: #3B4455;\n",
              "      --fill-color: #D2E3FC;\n",
              "      --hover-bg-color: #434B5C;\n",
              "      --hover-fill-color: #FFFFFF;\n",
              "      --disabled-bg-color: #3B4455;\n",
              "      --disabled-fill-color: #666;\n",
              "  }\n",
              "\n",
              "  .colab-df-quickchart {\n",
              "    background-color: var(--bg-color);\n",
              "    border: none;\n",
              "    border-radius: 50%;\n",
              "    cursor: pointer;\n",
              "    display: none;\n",
              "    fill: var(--fill-color);\n",
              "    height: 32px;\n",
              "    padding: 0;\n",
              "    width: 32px;\n",
              "  }\n",
              "\n",
              "  .colab-df-quickchart:hover {\n",
              "    background-color: var(--hover-bg-color);\n",
              "    box-shadow: 0 1px 2px rgba(60, 64, 67, 0.3), 0 1px 3px 1px rgba(60, 64, 67, 0.15);\n",
              "    fill: var(--button-hover-fill-color);\n",
              "  }\n",
              "\n",
              "  .colab-df-quickchart-complete:disabled,\n",
              "  .colab-df-quickchart-complete:disabled:hover {\n",
              "    background-color: var(--disabled-bg-color);\n",
              "    fill: var(--disabled-fill-color);\n",
              "    box-shadow: none;\n",
              "  }\n",
              "\n",
              "  .colab-df-spinner {\n",
              "    border: 2px solid var(--fill-color);\n",
              "    border-color: transparent;\n",
              "    border-bottom-color: var(--fill-color);\n",
              "    animation:\n",
              "      spin 1s steps(1) infinite;\n",
              "  }\n",
              "\n",
              "  @keyframes spin {\n",
              "    0% {\n",
              "      border-color: transparent;\n",
              "      border-bottom-color: var(--fill-color);\n",
              "      border-left-color: var(--fill-color);\n",
              "    }\n",
              "    20% {\n",
              "      border-color: transparent;\n",
              "      border-left-color: var(--fill-color);\n",
              "      border-top-color: var(--fill-color);\n",
              "    }\n",
              "    30% {\n",
              "      border-color: transparent;\n",
              "      border-left-color: var(--fill-color);\n",
              "      border-top-color: var(--fill-color);\n",
              "      border-right-color: var(--fill-color);\n",
              "    }\n",
              "    40% {\n",
              "      border-color: transparent;\n",
              "      border-right-color: var(--fill-color);\n",
              "      border-top-color: var(--fill-color);\n",
              "    }\n",
              "    60% {\n",
              "      border-color: transparent;\n",
              "      border-right-color: var(--fill-color);\n",
              "    }\n",
              "    80% {\n",
              "      border-color: transparent;\n",
              "      border-right-color: var(--fill-color);\n",
              "      border-bottom-color: var(--fill-color);\n",
              "    }\n",
              "    90% {\n",
              "      border-color: transparent;\n",
              "      border-bottom-color: var(--fill-color);\n",
              "    }\n",
              "  }\n",
              "</style>\n",
              "\n",
              "  <script>\n",
              "    async function quickchart(key) {\n",
              "      const quickchartButtonEl =\n",
              "        document.querySelector('#' + key + ' button');\n",
              "      quickchartButtonEl.disabled = true;  // To prevent multiple clicks.\n",
              "      quickchartButtonEl.classList.add('colab-df-spinner');\n",
              "      try {\n",
              "        const charts = await google.colab.kernel.invokeFunction(\n",
              "            'suggestCharts', [key], {});\n",
              "      } catch (error) {\n",
              "        console.error('Error during call to suggestCharts:', error);\n",
              "      }\n",
              "      quickchartButtonEl.classList.remove('colab-df-spinner');\n",
              "      quickchartButtonEl.classList.add('colab-df-quickchart-complete');\n",
              "    }\n",
              "    (() => {\n",
              "      let quickchartButtonEl =\n",
              "        document.querySelector('#df-a46bc951-f108-4293-ad2b-1314e35ba472 button');\n",
              "      quickchartButtonEl.style.display =\n",
              "        google.colab.kernel.accessAllowed ? 'block' : 'none';\n",
              "    })();\n",
              "  </script>\n",
              "</div>\n",
              "\n",
              "    </div>\n",
              "  </div>\n"
            ],
            "application/vnd.google.colaboratory.intrinsic+json": {
              "type": "dataframe",
              "variable_name": "df_one_hot",
              "summary": "{\n  \"name\": \"df_one_hot\",\n  \"rows\": 295,\n  \"fields\": [\n    {\n      \"column\": \"ID_PEDIDO\",\n      \"properties\": {\n        \"dtype\": \"number\",\n        \"std\": 4263868747,\n        \"min\": 120210601,\n        \"max\": 14720210901,\n        \"num_unique_values\": 181,\n        \"samples\": [\n          1520210613,\n          3420210626,\n          12720210815\n        ],\n        \"semantic_type\": \"\",\n        \"description\": \"\"\n      }\n    },\n    {\n      \"column\": \"DATA\",\n      \"properties\": {\n        \"dtype\": \"date\",\n        \"min\": \"2021-06-01 00:00:00\",\n        \"max\": \"2021-09-01 00:00:00\",\n        \"num_unique_values\": 81,\n        \"samples\": [\n          \"2021-07-08 00:00:00\",\n          \"2021-06-01 00:00:00\",\n          \"2021-06-30 00:00:00\"\n        ],\n        \"semantic_type\": \"\",\n        \"description\": \"\"\n      }\n    },\n    {\n      \"column\": \"ID_ITEM\",\n      \"properties\": {\n        \"dtype\": \"category\",\n        \"num_unique_values\": 4,\n        \"samples\": [\n          \"item A\",\n          \"item D\",\n          \"item C\"\n        ],\n        \"semantic_type\": \"\",\n        \"description\": \"\"\n      }\n    },\n    {\n      \"column\": \"QUANTIDADE\",\n      \"properties\": {\n        \"dtype\": \"number\",\n        \"std\": 1,\n        \"min\": 1,\n        \"max\": 5,\n        \"num_unique_values\": 5,\n        \"samples\": [\n          3,\n          5,\n          1\n        ],\n        \"semantic_type\": \"\",\n        \"description\": \"\"\n      }\n    },\n    {\n      \"column\": \"Valor_Item\",\n      \"properties\": {\n        \"dtype\": \"number\",\n        \"std\": 5,\n        \"min\": 10,\n        \"max\": 25,\n        \"num_unique_values\": 4,\n        \"samples\": [\n          10,\n          25,\n          20\n        ],\n        \"semantic_type\": \"\",\n        \"description\": \"\"\n      }\n    },\n    {\n      \"column\": \"VALOR_TOTAL\",\n      \"properties\": {\n        \"dtype\": \"number\",\n        \"std\": 31,\n        \"min\": 10,\n        \"max\": 125,\n        \"num_unique_values\": 13,\n        \"samples\": [\n          100,\n          10,\n          80\n        ],\n        \"semantic_type\": \"\",\n        \"description\": \"\"\n      }\n    },\n    {\n      \"column\": \"item A\",\n      \"properties\": {\n        \"dtype\": \"boolean\",\n        \"num_unique_values\": 2,\n        \"samples\": [\n          true,\n          false\n        ],\n        \"semantic_type\": \"\",\n        \"description\": \"\"\n      }\n    },\n    {\n      \"column\": \"item B\",\n      \"properties\": {\n        \"dtype\": \"boolean\",\n        \"num_unique_values\": 2,\n        \"samples\": [\n          true,\n          false\n        ],\n        \"semantic_type\": \"\",\n        \"description\": \"\"\n      }\n    },\n    {\n      \"column\": \"item C\",\n      \"properties\": {\n        \"dtype\": \"boolean\",\n        \"num_unique_values\": 2,\n        \"samples\": [\n          false,\n          true\n        ],\n        \"semantic_type\": \"\",\n        \"description\": \"\"\n      }\n    },\n    {\n      \"column\": \"item D\",\n      \"properties\": {\n        \"dtype\": \"boolean\",\n        \"num_unique_values\": 2,\n        \"samples\": [\n          true,\n          false\n        ],\n        \"semantic_type\": \"\",\n        \"description\": \"\"\n      }\n    }\n  ]\n}"
            }
          },
          "metadata": {},
          "execution_count": 10
        }
      ]
    },
    {
      "cell_type": "code",
      "source": [
        "df_one_hot.columns"
      ],
      "metadata": {
        "colab": {
          "base_uri": "https://localhost:8080/"
        },
        "id": "yB7lOC8sGwlC",
        "outputId": "9b16422f-82f7-4446-e7dc-feda533fc981"
      },
      "execution_count": 11,
      "outputs": [
        {
          "output_type": "execute_result",
          "data": {
            "text/plain": [
              "Index(['ID_PEDIDO', 'DATA', 'ID_ITEM', 'QUANTIDADE', 'Valor_Item',\n",
              "       'VALOR_TOTAL', 'item A', 'item B', 'item C', 'item D'],\n",
              "      dtype='object')"
            ]
          },
          "metadata": {},
          "execution_count": 11
        }
      ]
    },
    {
      "cell_type": "code",
      "source": [
        "df_one_hot.head()"
      ],
      "metadata": {
        "colab": {
          "base_uri": "https://localhost:8080/",
          "height": 206
        },
        "id": "kZG9rE47apIx",
        "outputId": "9c6a8530-f99c-43f4-9508-c7c3bbf00f2d"
      },
      "execution_count": 12,
      "outputs": [
        {
          "output_type": "execute_result",
          "data": {
            "text/plain": [
              "   ID_PEDIDO       DATA ID_ITEM  QUANTIDADE  Valor_Item  VALOR_TOTAL  item A  \\\n",
              "0  120210601 2021-06-01  item C           4          20           80   False   \n",
              "1  220210601 2021-06-01  item A           3          10           30    True   \n",
              "2  320210604 2021-06-04  item C           1          20           20   False   \n",
              "3  420210604 2021-06-04  item B           4          15           60   False   \n",
              "4  420210604 2021-06-04  item C           2          20           40   False   \n",
              "\n",
              "   item B  item C  item D  \n",
              "0   False    True   False  \n",
              "1   False   False   False  \n",
              "2   False    True   False  \n",
              "3    True   False   False  \n",
              "4   False    True   False  "
            ],
            "text/html": [
              "\n",
              "  <div id=\"df-66d3478d-2ff3-4f30-ae74-42da5e6036cd\" class=\"colab-df-container\">\n",
              "    <div>\n",
              "<style scoped>\n",
              "    .dataframe tbody tr th:only-of-type {\n",
              "        vertical-align: middle;\n",
              "    }\n",
              "\n",
              "    .dataframe tbody tr th {\n",
              "        vertical-align: top;\n",
              "    }\n",
              "\n",
              "    .dataframe thead th {\n",
              "        text-align: right;\n",
              "    }\n",
              "</style>\n",
              "<table border=\"1\" class=\"dataframe\">\n",
              "  <thead>\n",
              "    <tr style=\"text-align: right;\">\n",
              "      <th></th>\n",
              "      <th>ID_PEDIDO</th>\n",
              "      <th>DATA</th>\n",
              "      <th>ID_ITEM</th>\n",
              "      <th>QUANTIDADE</th>\n",
              "      <th>Valor_Item</th>\n",
              "      <th>VALOR_TOTAL</th>\n",
              "      <th>item A</th>\n",
              "      <th>item B</th>\n",
              "      <th>item C</th>\n",
              "      <th>item D</th>\n",
              "    </tr>\n",
              "  </thead>\n",
              "  <tbody>\n",
              "    <tr>\n",
              "      <th>0</th>\n",
              "      <td>120210601</td>\n",
              "      <td>2021-06-01</td>\n",
              "      <td>item C</td>\n",
              "      <td>4</td>\n",
              "      <td>20</td>\n",
              "      <td>80</td>\n",
              "      <td>False</td>\n",
              "      <td>False</td>\n",
              "      <td>True</td>\n",
              "      <td>False</td>\n",
              "    </tr>\n",
              "    <tr>\n",
              "      <th>1</th>\n",
              "      <td>220210601</td>\n",
              "      <td>2021-06-01</td>\n",
              "      <td>item A</td>\n",
              "      <td>3</td>\n",
              "      <td>10</td>\n",
              "      <td>30</td>\n",
              "      <td>True</td>\n",
              "      <td>False</td>\n",
              "      <td>False</td>\n",
              "      <td>False</td>\n",
              "    </tr>\n",
              "    <tr>\n",
              "      <th>2</th>\n",
              "      <td>320210604</td>\n",
              "      <td>2021-06-04</td>\n",
              "      <td>item C</td>\n",
              "      <td>1</td>\n",
              "      <td>20</td>\n",
              "      <td>20</td>\n",
              "      <td>False</td>\n",
              "      <td>False</td>\n",
              "      <td>True</td>\n",
              "      <td>False</td>\n",
              "    </tr>\n",
              "    <tr>\n",
              "      <th>3</th>\n",
              "      <td>420210604</td>\n",
              "      <td>2021-06-04</td>\n",
              "      <td>item B</td>\n",
              "      <td>4</td>\n",
              "      <td>15</td>\n",
              "      <td>60</td>\n",
              "      <td>False</td>\n",
              "      <td>True</td>\n",
              "      <td>False</td>\n",
              "      <td>False</td>\n",
              "    </tr>\n",
              "    <tr>\n",
              "      <th>4</th>\n",
              "      <td>420210604</td>\n",
              "      <td>2021-06-04</td>\n",
              "      <td>item C</td>\n",
              "      <td>2</td>\n",
              "      <td>20</td>\n",
              "      <td>40</td>\n",
              "      <td>False</td>\n",
              "      <td>False</td>\n",
              "      <td>True</td>\n",
              "      <td>False</td>\n",
              "    </tr>\n",
              "  </tbody>\n",
              "</table>\n",
              "</div>\n",
              "    <div class=\"colab-df-buttons\">\n",
              "\n",
              "  <div class=\"colab-df-container\">\n",
              "    <button class=\"colab-df-convert\" onclick=\"convertToInteractive('df-66d3478d-2ff3-4f30-ae74-42da5e6036cd')\"\n",
              "            title=\"Convert this dataframe to an interactive table.\"\n",
              "            style=\"display:none;\">\n",
              "\n",
              "  <svg xmlns=\"http://www.w3.org/2000/svg\" height=\"24px\" viewBox=\"0 -960 960 960\">\n",
              "    <path d=\"M120-120v-720h720v720H120Zm60-500h600v-160H180v160Zm220 220h160v-160H400v160Zm0 220h160v-160H400v160ZM180-400h160v-160H180v160Zm440 0h160v-160H620v160ZM180-180h160v-160H180v160Zm440 0h160v-160H620v160Z\"/>\n",
              "  </svg>\n",
              "    </button>\n",
              "\n",
              "  <style>\n",
              "    .colab-df-container {\n",
              "      display:flex;\n",
              "      gap: 12px;\n",
              "    }\n",
              "\n",
              "    .colab-df-convert {\n",
              "      background-color: #E8F0FE;\n",
              "      border: none;\n",
              "      border-radius: 50%;\n",
              "      cursor: pointer;\n",
              "      display: none;\n",
              "      fill: #1967D2;\n",
              "      height: 32px;\n",
              "      padding: 0 0 0 0;\n",
              "      width: 32px;\n",
              "    }\n",
              "\n",
              "    .colab-df-convert:hover {\n",
              "      background-color: #E2EBFA;\n",
              "      box-shadow: 0px 1px 2px rgba(60, 64, 67, 0.3), 0px 1px 3px 1px rgba(60, 64, 67, 0.15);\n",
              "      fill: #174EA6;\n",
              "    }\n",
              "\n",
              "    .colab-df-buttons div {\n",
              "      margin-bottom: 4px;\n",
              "    }\n",
              "\n",
              "    [theme=dark] .colab-df-convert {\n",
              "      background-color: #3B4455;\n",
              "      fill: #D2E3FC;\n",
              "    }\n",
              "\n",
              "    [theme=dark] .colab-df-convert:hover {\n",
              "      background-color: #434B5C;\n",
              "      box-shadow: 0px 1px 3px 1px rgba(0, 0, 0, 0.15);\n",
              "      filter: drop-shadow(0px 1px 2px rgba(0, 0, 0, 0.3));\n",
              "      fill: #FFFFFF;\n",
              "    }\n",
              "  </style>\n",
              "\n",
              "    <script>\n",
              "      const buttonEl =\n",
              "        document.querySelector('#df-66d3478d-2ff3-4f30-ae74-42da5e6036cd button.colab-df-convert');\n",
              "      buttonEl.style.display =\n",
              "        google.colab.kernel.accessAllowed ? 'block' : 'none';\n",
              "\n",
              "      async function convertToInteractive(key) {\n",
              "        const element = document.querySelector('#df-66d3478d-2ff3-4f30-ae74-42da5e6036cd');\n",
              "        const dataTable =\n",
              "          await google.colab.kernel.invokeFunction('convertToInteractive',\n",
              "                                                    [key], {});\n",
              "        if (!dataTable) return;\n",
              "\n",
              "        const docLinkHtml = 'Like what you see? Visit the ' +\n",
              "          '<a target=\"_blank\" href=https://colab.research.google.com/notebooks/data_table.ipynb>data table notebook</a>'\n",
              "          + ' to learn more about interactive tables.';\n",
              "        element.innerHTML = '';\n",
              "        dataTable['output_type'] = 'display_data';\n",
              "        await google.colab.output.renderOutput(dataTable, element);\n",
              "        const docLink = document.createElement('div');\n",
              "        docLink.innerHTML = docLinkHtml;\n",
              "        element.appendChild(docLink);\n",
              "      }\n",
              "    </script>\n",
              "  </div>\n",
              "\n",
              "\n",
              "<div id=\"df-9c2c7460-d476-4950-aa76-692f629f5762\">\n",
              "  <button class=\"colab-df-quickchart\" onclick=\"quickchart('df-9c2c7460-d476-4950-aa76-692f629f5762')\"\n",
              "            title=\"Suggest charts\"\n",
              "            style=\"display:none;\">\n",
              "\n",
              "<svg xmlns=\"http://www.w3.org/2000/svg\" height=\"24px\"viewBox=\"0 0 24 24\"\n",
              "     width=\"24px\">\n",
              "    <g>\n",
              "        <path d=\"M19 3H5c-1.1 0-2 .9-2 2v14c0 1.1.9 2 2 2h14c1.1 0 2-.9 2-2V5c0-1.1-.9-2-2-2zM9 17H7v-7h2v7zm4 0h-2V7h2v10zm4 0h-2v-4h2v4z\"/>\n",
              "    </g>\n",
              "</svg>\n",
              "  </button>\n",
              "\n",
              "<style>\n",
              "  .colab-df-quickchart {\n",
              "      --bg-color: #E8F0FE;\n",
              "      --fill-color: #1967D2;\n",
              "      --hover-bg-color: #E2EBFA;\n",
              "      --hover-fill-color: #174EA6;\n",
              "      --disabled-fill-color: #AAA;\n",
              "      --disabled-bg-color: #DDD;\n",
              "  }\n",
              "\n",
              "  [theme=dark] .colab-df-quickchart {\n",
              "      --bg-color: #3B4455;\n",
              "      --fill-color: #D2E3FC;\n",
              "      --hover-bg-color: #434B5C;\n",
              "      --hover-fill-color: #FFFFFF;\n",
              "      --disabled-bg-color: #3B4455;\n",
              "      --disabled-fill-color: #666;\n",
              "  }\n",
              "\n",
              "  .colab-df-quickchart {\n",
              "    background-color: var(--bg-color);\n",
              "    border: none;\n",
              "    border-radius: 50%;\n",
              "    cursor: pointer;\n",
              "    display: none;\n",
              "    fill: var(--fill-color);\n",
              "    height: 32px;\n",
              "    padding: 0;\n",
              "    width: 32px;\n",
              "  }\n",
              "\n",
              "  .colab-df-quickchart:hover {\n",
              "    background-color: var(--hover-bg-color);\n",
              "    box-shadow: 0 1px 2px rgba(60, 64, 67, 0.3), 0 1px 3px 1px rgba(60, 64, 67, 0.15);\n",
              "    fill: var(--button-hover-fill-color);\n",
              "  }\n",
              "\n",
              "  .colab-df-quickchart-complete:disabled,\n",
              "  .colab-df-quickchart-complete:disabled:hover {\n",
              "    background-color: var(--disabled-bg-color);\n",
              "    fill: var(--disabled-fill-color);\n",
              "    box-shadow: none;\n",
              "  }\n",
              "\n",
              "  .colab-df-spinner {\n",
              "    border: 2px solid var(--fill-color);\n",
              "    border-color: transparent;\n",
              "    border-bottom-color: var(--fill-color);\n",
              "    animation:\n",
              "      spin 1s steps(1) infinite;\n",
              "  }\n",
              "\n",
              "  @keyframes spin {\n",
              "    0% {\n",
              "      border-color: transparent;\n",
              "      border-bottom-color: var(--fill-color);\n",
              "      border-left-color: var(--fill-color);\n",
              "    }\n",
              "    20% {\n",
              "      border-color: transparent;\n",
              "      border-left-color: var(--fill-color);\n",
              "      border-top-color: var(--fill-color);\n",
              "    }\n",
              "    30% {\n",
              "      border-color: transparent;\n",
              "      border-left-color: var(--fill-color);\n",
              "      border-top-color: var(--fill-color);\n",
              "      border-right-color: var(--fill-color);\n",
              "    }\n",
              "    40% {\n",
              "      border-color: transparent;\n",
              "      border-right-color: var(--fill-color);\n",
              "      border-top-color: var(--fill-color);\n",
              "    }\n",
              "    60% {\n",
              "      border-color: transparent;\n",
              "      border-right-color: var(--fill-color);\n",
              "    }\n",
              "    80% {\n",
              "      border-color: transparent;\n",
              "      border-right-color: var(--fill-color);\n",
              "      border-bottom-color: var(--fill-color);\n",
              "    }\n",
              "    90% {\n",
              "      border-color: transparent;\n",
              "      border-bottom-color: var(--fill-color);\n",
              "    }\n",
              "  }\n",
              "</style>\n",
              "\n",
              "  <script>\n",
              "    async function quickchart(key) {\n",
              "      const quickchartButtonEl =\n",
              "        document.querySelector('#' + key + ' button');\n",
              "      quickchartButtonEl.disabled = true;  // To prevent multiple clicks.\n",
              "      quickchartButtonEl.classList.add('colab-df-spinner');\n",
              "      try {\n",
              "        const charts = await google.colab.kernel.invokeFunction(\n",
              "            'suggestCharts', [key], {});\n",
              "      } catch (error) {\n",
              "        console.error('Error during call to suggestCharts:', error);\n",
              "      }\n",
              "      quickchartButtonEl.classList.remove('colab-df-spinner');\n",
              "      quickchartButtonEl.classList.add('colab-df-quickchart-complete');\n",
              "    }\n",
              "    (() => {\n",
              "      let quickchartButtonEl =\n",
              "        document.querySelector('#df-9c2c7460-d476-4950-aa76-692f629f5762 button');\n",
              "      quickchartButtonEl.style.display =\n",
              "        google.colab.kernel.accessAllowed ? 'block' : 'none';\n",
              "    })();\n",
              "  </script>\n",
              "</div>\n",
              "\n",
              "    </div>\n",
              "  </div>\n"
            ],
            "application/vnd.google.colaboratory.intrinsic+json": {
              "type": "dataframe",
              "variable_name": "df_one_hot",
              "summary": "{\n  \"name\": \"df_one_hot\",\n  \"rows\": 295,\n  \"fields\": [\n    {\n      \"column\": \"ID_PEDIDO\",\n      \"properties\": {\n        \"dtype\": \"number\",\n        \"std\": 4263868747,\n        \"min\": 120210601,\n        \"max\": 14720210901,\n        \"num_unique_values\": 181,\n        \"samples\": [\n          1520210613,\n          3420210626,\n          12720210815\n        ],\n        \"semantic_type\": \"\",\n        \"description\": \"\"\n      }\n    },\n    {\n      \"column\": \"DATA\",\n      \"properties\": {\n        \"dtype\": \"date\",\n        \"min\": \"2021-06-01 00:00:00\",\n        \"max\": \"2021-09-01 00:00:00\",\n        \"num_unique_values\": 81,\n        \"samples\": [\n          \"2021-07-08 00:00:00\",\n          \"2021-06-01 00:00:00\",\n          \"2021-06-30 00:00:00\"\n        ],\n        \"semantic_type\": \"\",\n        \"description\": \"\"\n      }\n    },\n    {\n      \"column\": \"ID_ITEM\",\n      \"properties\": {\n        \"dtype\": \"category\",\n        \"num_unique_values\": 4,\n        \"samples\": [\n          \"item A\",\n          \"item D\",\n          \"item C\"\n        ],\n        \"semantic_type\": \"\",\n        \"description\": \"\"\n      }\n    },\n    {\n      \"column\": \"QUANTIDADE\",\n      \"properties\": {\n        \"dtype\": \"number\",\n        \"std\": 1,\n        \"min\": 1,\n        \"max\": 5,\n        \"num_unique_values\": 5,\n        \"samples\": [\n          3,\n          5,\n          1\n        ],\n        \"semantic_type\": \"\",\n        \"description\": \"\"\n      }\n    },\n    {\n      \"column\": \"Valor_Item\",\n      \"properties\": {\n        \"dtype\": \"number\",\n        \"std\": 5,\n        \"min\": 10,\n        \"max\": 25,\n        \"num_unique_values\": 4,\n        \"samples\": [\n          10,\n          25,\n          20\n        ],\n        \"semantic_type\": \"\",\n        \"description\": \"\"\n      }\n    },\n    {\n      \"column\": \"VALOR_TOTAL\",\n      \"properties\": {\n        \"dtype\": \"number\",\n        \"std\": 31,\n        \"min\": 10,\n        \"max\": 125,\n        \"num_unique_values\": 13,\n        \"samples\": [\n          100,\n          10,\n          80\n        ],\n        \"semantic_type\": \"\",\n        \"description\": \"\"\n      }\n    },\n    {\n      \"column\": \"item A\",\n      \"properties\": {\n        \"dtype\": \"boolean\",\n        \"num_unique_values\": 2,\n        \"samples\": [\n          true,\n          false\n        ],\n        \"semantic_type\": \"\",\n        \"description\": \"\"\n      }\n    },\n    {\n      \"column\": \"item B\",\n      \"properties\": {\n        \"dtype\": \"boolean\",\n        \"num_unique_values\": 2,\n        \"samples\": [\n          true,\n          false\n        ],\n        \"semantic_type\": \"\",\n        \"description\": \"\"\n      }\n    },\n    {\n      \"column\": \"item C\",\n      \"properties\": {\n        \"dtype\": \"boolean\",\n        \"num_unique_values\": 2,\n        \"samples\": [\n          false,\n          true\n        ],\n        \"semantic_type\": \"\",\n        \"description\": \"\"\n      }\n    },\n    {\n      \"column\": \"item D\",\n      \"properties\": {\n        \"dtype\": \"boolean\",\n        \"num_unique_values\": 2,\n        \"samples\": [\n          true,\n          false\n        ],\n        \"semantic_type\": \"\",\n        \"description\": \"\"\n      }\n    }\n  ]\n}"
            }
          },
          "metadata": {},
          "execution_count": 12
        }
      ]
    },
    {
      "cell_type": "code",
      "source": [
        "df_one_hot['Year'] = df_one_hot['DATA'].dt.year\n",
        "df_one_hot['Month'] = df_one_hot['DATA'].dt.month\n",
        "\n",
        "# Selecionar as colunas para X e y\n",
        "X = df_one_hot[['QUANTIDADE',\n",
        "                'Year',\n",
        "                'Month',\n",
        "                'Valor_Item',\n",
        "                'item A',\n",
        "                'item B',\n",
        "                'item C',\n",
        "                'item D']]\n",
        "y = df_one_hot['VALOR_TOTAL']\n"
      ],
      "metadata": {
        "id": "kQ8MxrpZElxH"
      },
      "execution_count": 13,
      "outputs": []
    },
    {
      "cell_type": "code",
      "source": [
        "X_train, X_temp, y_train, y_temp = train_test_split(X, y, test_size=0.2, random_state=42)\n",
        "X_test, X_val, y_test, y_val = train_test_split(X_temp, y_temp, test_size=0.5, random_state=42)\n",
        "\n",
        "print(f'Train predictor set shape: {X_train.shape}. Train target set shape: {y_train.shape}')\n",
        "print(f'Test predictor set shape: {X_test.shape}. Test target set shape: {y_test.shape}')\n",
        "print(f'Validation predictor set shape: {X_val.shape}. Validation target set shape: {y_val.shape}')"
      ],
      "metadata": {
        "colab": {
          "base_uri": "https://localhost:8080/"
        },
        "id": "c-66NdahDoDv",
        "outputId": "cfb44b14-5024-486a-b2fe-fda8248d28fe"
      },
      "execution_count": 14,
      "outputs": [
        {
          "output_type": "stream",
          "name": "stdout",
          "text": [
            "Train predictor set shape: (236, 8). Train target set shape: (236,)\n",
            "Test predictor set shape: (29, 8). Test target set shape: (29,)\n",
            "Validation predictor set shape: (30, 8). Validation target set shape: (30,)\n"
          ]
        }
      ]
    },
    {
      "cell_type": "markdown",
      "source": [
        "### Criando modelos que serão testados para definir qual o melhor.\n",
        "\n",
        "Iremos usar cinco (5) modelos diferentes para ver como eles se saem com os dados e predizendo os resultados, para que possamos usar o melhor modelo.\n",
        "Sendo eles XGBoost, LightGBM, CatBoost, DecisionTree e AdaBoost."
      ],
      "metadata": {
        "id": "-170pdtCn7xD"
      }
    },
    {
      "cell_type": "code",
      "source": [
        "modelo_XGBoost = XGBRegressor(n_estimators = 1000, max_depth = 8, learning_rate = 1e-3, n_jobs = -1, random_state = 0)\n",
        "modelo_LightGBM = LGBMRegressor(n_estimators = 1000, max_depth = 8, num_leaves = 2^8, learning_rate = 1e-3, n_jobs = -1, verbose = -1, random_state = 0)\n",
        "modelo_catboost = CatBoostRegressor(n_estimators = 1000, max_depth = 8, learning_rate = 1e-3, random_state = 0, verbose = 0)\n",
        "modelo_decision_tree = DecisionTreeRegressor(random_state = 0, max_depth = 8, min_samples_split = 2)\n",
        "modelo_adaboost = AdaBoostRegressor(n_estimators=100, base_estimator=DecisionTreeRegressor(max_depth=2))"
      ],
      "metadata": {
        "id": "x1MiLIBeD1bw"
      },
      "execution_count": 15,
      "outputs": []
    },
    {
      "cell_type": "markdown",
      "source": [
        "### XGBoost"
      ],
      "metadata": {
        "id": "TqAcub3ccwnV"
      }
    },
    {
      "cell_type": "code",
      "source": [
        "modelo_XGBoost.fit(X_train, y_train)"
      ],
      "metadata": {
        "colab": {
          "base_uri": "https://localhost:8080/",
          "height": 248
        },
        "collapsed": true,
        "id": "G-aRJHzLJlbM",
        "outputId": "02617ad8-3c6e-412d-d4f9-085321b58972"
      },
      "execution_count": 16,
      "outputs": [
        {
          "output_type": "execute_result",
          "data": {
            "text/plain": [
              "XGBRegressor(base_score=None, booster=None, callbacks=None,\n",
              "             colsample_bylevel=None, colsample_bynode=None,\n",
              "             colsample_bytree=None, device=None, early_stopping_rounds=None,\n",
              "             enable_categorical=False, eval_metric=None, feature_types=None,\n",
              "             gamma=None, grow_policy=None, importance_type=None,\n",
              "             interaction_constraints=None, learning_rate=0.001, max_bin=None,\n",
              "             max_cat_threshold=None, max_cat_to_onehot=None,\n",
              "             max_delta_step=None, max_depth=8, max_leaves=None,\n",
              "             min_child_weight=None, missing=nan, monotone_constraints=None,\n",
              "             multi_strategy=None, n_estimators=1000, n_jobs=-1,\n",
              "             num_parallel_tree=None, random_state=0, ...)"
            ],
            "text/html": [
              "<style>#sk-container-id-1 {color: black;background-color: white;}#sk-container-id-1 pre{padding: 0;}#sk-container-id-1 div.sk-toggleable {background-color: white;}#sk-container-id-1 label.sk-toggleable__label {cursor: pointer;display: block;width: 100%;margin-bottom: 0;padding: 0.3em;box-sizing: border-box;text-align: center;}#sk-container-id-1 label.sk-toggleable__label-arrow:before {content: \"▸\";float: left;margin-right: 0.25em;color: #696969;}#sk-container-id-1 label.sk-toggleable__label-arrow:hover:before {color: black;}#sk-container-id-1 div.sk-estimator:hover label.sk-toggleable__label-arrow:before {color: black;}#sk-container-id-1 div.sk-toggleable__content {max-height: 0;max-width: 0;overflow: hidden;text-align: left;background-color: #f0f8ff;}#sk-container-id-1 div.sk-toggleable__content pre {margin: 0.2em;color: black;border-radius: 0.25em;background-color: #f0f8ff;}#sk-container-id-1 input.sk-toggleable__control:checked~div.sk-toggleable__content {max-height: 200px;max-width: 100%;overflow: auto;}#sk-container-id-1 input.sk-toggleable__control:checked~label.sk-toggleable__label-arrow:before {content: \"▾\";}#sk-container-id-1 div.sk-estimator input.sk-toggleable__control:checked~label.sk-toggleable__label {background-color: #d4ebff;}#sk-container-id-1 div.sk-label input.sk-toggleable__control:checked~label.sk-toggleable__label {background-color: #d4ebff;}#sk-container-id-1 input.sk-hidden--visually {border: 0;clip: rect(1px 1px 1px 1px);clip: rect(1px, 1px, 1px, 1px);height: 1px;margin: -1px;overflow: hidden;padding: 0;position: absolute;width: 1px;}#sk-container-id-1 div.sk-estimator {font-family: monospace;background-color: #f0f8ff;border: 1px dotted black;border-radius: 0.25em;box-sizing: border-box;margin-bottom: 0.5em;}#sk-container-id-1 div.sk-estimator:hover {background-color: #d4ebff;}#sk-container-id-1 div.sk-parallel-item::after {content: \"\";width: 100%;border-bottom: 1px solid gray;flex-grow: 1;}#sk-container-id-1 div.sk-label:hover label.sk-toggleable__label {background-color: #d4ebff;}#sk-container-id-1 div.sk-serial::before {content: \"\";position: absolute;border-left: 1px solid gray;box-sizing: border-box;top: 0;bottom: 0;left: 50%;z-index: 0;}#sk-container-id-1 div.sk-serial {display: flex;flex-direction: column;align-items: center;background-color: white;padding-right: 0.2em;padding-left: 0.2em;position: relative;}#sk-container-id-1 div.sk-item {position: relative;z-index: 1;}#sk-container-id-1 div.sk-parallel {display: flex;align-items: stretch;justify-content: center;background-color: white;position: relative;}#sk-container-id-1 div.sk-item::before, #sk-container-id-1 div.sk-parallel-item::before {content: \"\";position: absolute;border-left: 1px solid gray;box-sizing: border-box;top: 0;bottom: 0;left: 50%;z-index: -1;}#sk-container-id-1 div.sk-parallel-item {display: flex;flex-direction: column;z-index: 1;position: relative;background-color: white;}#sk-container-id-1 div.sk-parallel-item:first-child::after {align-self: flex-end;width: 50%;}#sk-container-id-1 div.sk-parallel-item:last-child::after {align-self: flex-start;width: 50%;}#sk-container-id-1 div.sk-parallel-item:only-child::after {width: 0;}#sk-container-id-1 div.sk-dashed-wrapped {border: 1px dashed gray;margin: 0 0.4em 0.5em 0.4em;box-sizing: border-box;padding-bottom: 0.4em;background-color: white;}#sk-container-id-1 div.sk-label label {font-family: monospace;font-weight: bold;display: inline-block;line-height: 1.2em;}#sk-container-id-1 div.sk-label-container {text-align: center;}#sk-container-id-1 div.sk-container {/* jupyter's `normalize.less` sets `[hidden] { display: none; }` but bootstrap.min.css set `[hidden] { display: none !important; }` so we also need the `!important` here to be able to override the default hidden behavior on the sphinx rendered scikit-learn.org. See: https://github.com/scikit-learn/scikit-learn/issues/21755 */display: inline-block !important;position: relative;}#sk-container-id-1 div.sk-text-repr-fallback {display: none;}</style><div id=\"sk-container-id-1\" class=\"sk-top-container\"><div class=\"sk-text-repr-fallback\"><pre>XGBRegressor(base_score=None, booster=None, callbacks=None,\n",
              "             colsample_bylevel=None, colsample_bynode=None,\n",
              "             colsample_bytree=None, device=None, early_stopping_rounds=None,\n",
              "             enable_categorical=False, eval_metric=None, feature_types=None,\n",
              "             gamma=None, grow_policy=None, importance_type=None,\n",
              "             interaction_constraints=None, learning_rate=0.001, max_bin=None,\n",
              "             max_cat_threshold=None, max_cat_to_onehot=None,\n",
              "             max_delta_step=None, max_depth=8, max_leaves=None,\n",
              "             min_child_weight=None, missing=nan, monotone_constraints=None,\n",
              "             multi_strategy=None, n_estimators=1000, n_jobs=-1,\n",
              "             num_parallel_tree=None, random_state=0, ...)</pre><b>In a Jupyter environment, please rerun this cell to show the HTML representation or trust the notebook. <br />On GitHub, the HTML representation is unable to render, please try loading this page with nbviewer.org.</b></div><div class=\"sk-container\" hidden><div class=\"sk-item\"><div class=\"sk-estimator sk-toggleable\"><input class=\"sk-toggleable__control sk-hidden--visually\" id=\"sk-estimator-id-1\" type=\"checkbox\" checked><label for=\"sk-estimator-id-1\" class=\"sk-toggleable__label sk-toggleable__label-arrow\">XGBRegressor</label><div class=\"sk-toggleable__content\"><pre>XGBRegressor(base_score=None, booster=None, callbacks=None,\n",
              "             colsample_bylevel=None, colsample_bynode=None,\n",
              "             colsample_bytree=None, device=None, early_stopping_rounds=None,\n",
              "             enable_categorical=False, eval_metric=None, feature_types=None,\n",
              "             gamma=None, grow_policy=None, importance_type=None,\n",
              "             interaction_constraints=None, learning_rate=0.001, max_bin=None,\n",
              "             max_cat_threshold=None, max_cat_to_onehot=None,\n",
              "             max_delta_step=None, max_depth=8, max_leaves=None,\n",
              "             min_child_weight=None, missing=nan, monotone_constraints=None,\n",
              "             multi_strategy=None, n_estimators=1000, n_jobs=-1,\n",
              "             num_parallel_tree=None, random_state=0, ...)</pre></div></div></div></div></div>"
            ]
          },
          "metadata": {},
          "execution_count": 16
        }
      ]
    },
    {
      "cell_type": "markdown",
      "source": [
        "### LGBMRegressor"
      ],
      "metadata": {
        "id": "kML7RQKlc_1F"
      }
    },
    {
      "cell_type": "code",
      "source": [
        "modelo_LightGBM.fit(X_train, y_train)"
      ],
      "metadata": {
        "colab": {
          "base_uri": "https://localhost:8080/",
          "height": 92
        },
        "id": "29TTp0ypdEGl",
        "outputId": "f8e5139e-747f-4528-b0aa-86fa13295b0c"
      },
      "execution_count": 17,
      "outputs": [
        {
          "output_type": "execute_result",
          "data": {
            "text/plain": [
              "LGBMRegressor(learning_rate=0.001, max_depth=8, n_estimators=1000, n_jobs=-1,\n",
              "              num_leaves=10, random_state=0, verbose=-1)"
            ],
            "text/html": [
              "<style>#sk-container-id-2 {color: black;background-color: white;}#sk-container-id-2 pre{padding: 0;}#sk-container-id-2 div.sk-toggleable {background-color: white;}#sk-container-id-2 label.sk-toggleable__label {cursor: pointer;display: block;width: 100%;margin-bottom: 0;padding: 0.3em;box-sizing: border-box;text-align: center;}#sk-container-id-2 label.sk-toggleable__label-arrow:before {content: \"▸\";float: left;margin-right: 0.25em;color: #696969;}#sk-container-id-2 label.sk-toggleable__label-arrow:hover:before {color: black;}#sk-container-id-2 div.sk-estimator:hover label.sk-toggleable__label-arrow:before {color: black;}#sk-container-id-2 div.sk-toggleable__content {max-height: 0;max-width: 0;overflow: hidden;text-align: left;background-color: #f0f8ff;}#sk-container-id-2 div.sk-toggleable__content pre {margin: 0.2em;color: black;border-radius: 0.25em;background-color: #f0f8ff;}#sk-container-id-2 input.sk-toggleable__control:checked~div.sk-toggleable__content {max-height: 200px;max-width: 100%;overflow: auto;}#sk-container-id-2 input.sk-toggleable__control:checked~label.sk-toggleable__label-arrow:before {content: \"▾\";}#sk-container-id-2 div.sk-estimator input.sk-toggleable__control:checked~label.sk-toggleable__label {background-color: #d4ebff;}#sk-container-id-2 div.sk-label input.sk-toggleable__control:checked~label.sk-toggleable__label {background-color: #d4ebff;}#sk-container-id-2 input.sk-hidden--visually {border: 0;clip: rect(1px 1px 1px 1px);clip: rect(1px, 1px, 1px, 1px);height: 1px;margin: -1px;overflow: hidden;padding: 0;position: absolute;width: 1px;}#sk-container-id-2 div.sk-estimator {font-family: monospace;background-color: #f0f8ff;border: 1px dotted black;border-radius: 0.25em;box-sizing: border-box;margin-bottom: 0.5em;}#sk-container-id-2 div.sk-estimator:hover {background-color: #d4ebff;}#sk-container-id-2 div.sk-parallel-item::after {content: \"\";width: 100%;border-bottom: 1px solid gray;flex-grow: 1;}#sk-container-id-2 div.sk-label:hover label.sk-toggleable__label {background-color: #d4ebff;}#sk-container-id-2 div.sk-serial::before {content: \"\";position: absolute;border-left: 1px solid gray;box-sizing: border-box;top: 0;bottom: 0;left: 50%;z-index: 0;}#sk-container-id-2 div.sk-serial {display: flex;flex-direction: column;align-items: center;background-color: white;padding-right: 0.2em;padding-left: 0.2em;position: relative;}#sk-container-id-2 div.sk-item {position: relative;z-index: 1;}#sk-container-id-2 div.sk-parallel {display: flex;align-items: stretch;justify-content: center;background-color: white;position: relative;}#sk-container-id-2 div.sk-item::before, #sk-container-id-2 div.sk-parallel-item::before {content: \"\";position: absolute;border-left: 1px solid gray;box-sizing: border-box;top: 0;bottom: 0;left: 50%;z-index: -1;}#sk-container-id-2 div.sk-parallel-item {display: flex;flex-direction: column;z-index: 1;position: relative;background-color: white;}#sk-container-id-2 div.sk-parallel-item:first-child::after {align-self: flex-end;width: 50%;}#sk-container-id-2 div.sk-parallel-item:last-child::after {align-self: flex-start;width: 50%;}#sk-container-id-2 div.sk-parallel-item:only-child::after {width: 0;}#sk-container-id-2 div.sk-dashed-wrapped {border: 1px dashed gray;margin: 0 0.4em 0.5em 0.4em;box-sizing: border-box;padding-bottom: 0.4em;background-color: white;}#sk-container-id-2 div.sk-label label {font-family: monospace;font-weight: bold;display: inline-block;line-height: 1.2em;}#sk-container-id-2 div.sk-label-container {text-align: center;}#sk-container-id-2 div.sk-container {/* jupyter's `normalize.less` sets `[hidden] { display: none; }` but bootstrap.min.css set `[hidden] { display: none !important; }` so we also need the `!important` here to be able to override the default hidden behavior on the sphinx rendered scikit-learn.org. See: https://github.com/scikit-learn/scikit-learn/issues/21755 */display: inline-block !important;position: relative;}#sk-container-id-2 div.sk-text-repr-fallback {display: none;}</style><div id=\"sk-container-id-2\" class=\"sk-top-container\"><div class=\"sk-text-repr-fallback\"><pre>LGBMRegressor(learning_rate=0.001, max_depth=8, n_estimators=1000, n_jobs=-1,\n",
              "              num_leaves=10, random_state=0, verbose=-1)</pre><b>In a Jupyter environment, please rerun this cell to show the HTML representation or trust the notebook. <br />On GitHub, the HTML representation is unable to render, please try loading this page with nbviewer.org.</b></div><div class=\"sk-container\" hidden><div class=\"sk-item\"><div class=\"sk-estimator sk-toggleable\"><input class=\"sk-toggleable__control sk-hidden--visually\" id=\"sk-estimator-id-2\" type=\"checkbox\" checked><label for=\"sk-estimator-id-2\" class=\"sk-toggleable__label sk-toggleable__label-arrow\">LGBMRegressor</label><div class=\"sk-toggleable__content\"><pre>LGBMRegressor(learning_rate=0.001, max_depth=8, n_estimators=1000, n_jobs=-1,\n",
              "              num_leaves=10, random_state=0, verbose=-1)</pre></div></div></div></div></div>"
            ]
          },
          "metadata": {},
          "execution_count": 17
        }
      ]
    },
    {
      "cell_type": "markdown",
      "source": [
        "### CatBoost"
      ],
      "metadata": {
        "id": "_Jiy3hWxdJYq"
      }
    },
    {
      "cell_type": "code",
      "source": [
        "modelo_catboost.fit(X_train, y_train)"
      ],
      "metadata": {
        "colab": {
          "base_uri": "https://localhost:8080/"
        },
        "id": "wDNXdeWkJ30z",
        "outputId": "6781ee3f-84fb-425a-990e-0d1389d40d0b"
      },
      "execution_count": 18,
      "outputs": [
        {
          "output_type": "execute_result",
          "data": {
            "text/plain": [
              "<catboost.core.CatBoostRegressor at 0x7c7efa113520>"
            ]
          },
          "metadata": {},
          "execution_count": 18
        }
      ]
    },
    {
      "cell_type": "markdown",
      "source": [
        "### DecisionTree"
      ],
      "metadata": {
        "id": "NRyuQq9kdOzt"
      }
    },
    {
      "cell_type": "code",
      "source": [
        "modelo_decision_tree.fit(X_train, y_train)"
      ],
      "metadata": {
        "colab": {
          "base_uri": "https://localhost:8080/",
          "height": 74
        },
        "collapsed": true,
        "id": "pf-TX6UUKDBj",
        "outputId": "dfbac994-b246-4122-d398-9e52b30ac65f"
      },
      "execution_count": 19,
      "outputs": [
        {
          "output_type": "execute_result",
          "data": {
            "text/plain": [
              "DecisionTreeRegressor(max_depth=8, random_state=0)"
            ],
            "text/html": [
              "<style>#sk-container-id-3 {color: black;background-color: white;}#sk-container-id-3 pre{padding: 0;}#sk-container-id-3 div.sk-toggleable {background-color: white;}#sk-container-id-3 label.sk-toggleable__label {cursor: pointer;display: block;width: 100%;margin-bottom: 0;padding: 0.3em;box-sizing: border-box;text-align: center;}#sk-container-id-3 label.sk-toggleable__label-arrow:before {content: \"▸\";float: left;margin-right: 0.25em;color: #696969;}#sk-container-id-3 label.sk-toggleable__label-arrow:hover:before {color: black;}#sk-container-id-3 div.sk-estimator:hover label.sk-toggleable__label-arrow:before {color: black;}#sk-container-id-3 div.sk-toggleable__content {max-height: 0;max-width: 0;overflow: hidden;text-align: left;background-color: #f0f8ff;}#sk-container-id-3 div.sk-toggleable__content pre {margin: 0.2em;color: black;border-radius: 0.25em;background-color: #f0f8ff;}#sk-container-id-3 input.sk-toggleable__control:checked~div.sk-toggleable__content {max-height: 200px;max-width: 100%;overflow: auto;}#sk-container-id-3 input.sk-toggleable__control:checked~label.sk-toggleable__label-arrow:before {content: \"▾\";}#sk-container-id-3 div.sk-estimator input.sk-toggleable__control:checked~label.sk-toggleable__label {background-color: #d4ebff;}#sk-container-id-3 div.sk-label input.sk-toggleable__control:checked~label.sk-toggleable__label {background-color: #d4ebff;}#sk-container-id-3 input.sk-hidden--visually {border: 0;clip: rect(1px 1px 1px 1px);clip: rect(1px, 1px, 1px, 1px);height: 1px;margin: -1px;overflow: hidden;padding: 0;position: absolute;width: 1px;}#sk-container-id-3 div.sk-estimator {font-family: monospace;background-color: #f0f8ff;border: 1px dotted black;border-radius: 0.25em;box-sizing: border-box;margin-bottom: 0.5em;}#sk-container-id-3 div.sk-estimator:hover {background-color: #d4ebff;}#sk-container-id-3 div.sk-parallel-item::after {content: \"\";width: 100%;border-bottom: 1px solid gray;flex-grow: 1;}#sk-container-id-3 div.sk-label:hover label.sk-toggleable__label {background-color: #d4ebff;}#sk-container-id-3 div.sk-serial::before {content: \"\";position: absolute;border-left: 1px solid gray;box-sizing: border-box;top: 0;bottom: 0;left: 50%;z-index: 0;}#sk-container-id-3 div.sk-serial {display: flex;flex-direction: column;align-items: center;background-color: white;padding-right: 0.2em;padding-left: 0.2em;position: relative;}#sk-container-id-3 div.sk-item {position: relative;z-index: 1;}#sk-container-id-3 div.sk-parallel {display: flex;align-items: stretch;justify-content: center;background-color: white;position: relative;}#sk-container-id-3 div.sk-item::before, #sk-container-id-3 div.sk-parallel-item::before {content: \"\";position: absolute;border-left: 1px solid gray;box-sizing: border-box;top: 0;bottom: 0;left: 50%;z-index: -1;}#sk-container-id-3 div.sk-parallel-item {display: flex;flex-direction: column;z-index: 1;position: relative;background-color: white;}#sk-container-id-3 div.sk-parallel-item:first-child::after {align-self: flex-end;width: 50%;}#sk-container-id-3 div.sk-parallel-item:last-child::after {align-self: flex-start;width: 50%;}#sk-container-id-3 div.sk-parallel-item:only-child::after {width: 0;}#sk-container-id-3 div.sk-dashed-wrapped {border: 1px dashed gray;margin: 0 0.4em 0.5em 0.4em;box-sizing: border-box;padding-bottom: 0.4em;background-color: white;}#sk-container-id-3 div.sk-label label {font-family: monospace;font-weight: bold;display: inline-block;line-height: 1.2em;}#sk-container-id-3 div.sk-label-container {text-align: center;}#sk-container-id-3 div.sk-container {/* jupyter's `normalize.less` sets `[hidden] { display: none; }` but bootstrap.min.css set `[hidden] { display: none !important; }` so we also need the `!important` here to be able to override the default hidden behavior on the sphinx rendered scikit-learn.org. See: https://github.com/scikit-learn/scikit-learn/issues/21755 */display: inline-block !important;position: relative;}#sk-container-id-3 div.sk-text-repr-fallback {display: none;}</style><div id=\"sk-container-id-3\" class=\"sk-top-container\"><div class=\"sk-text-repr-fallback\"><pre>DecisionTreeRegressor(max_depth=8, random_state=0)</pre><b>In a Jupyter environment, please rerun this cell to show the HTML representation or trust the notebook. <br />On GitHub, the HTML representation is unable to render, please try loading this page with nbviewer.org.</b></div><div class=\"sk-container\" hidden><div class=\"sk-item\"><div class=\"sk-estimator sk-toggleable\"><input class=\"sk-toggleable__control sk-hidden--visually\" id=\"sk-estimator-id-3\" type=\"checkbox\" checked><label for=\"sk-estimator-id-3\" class=\"sk-toggleable__label sk-toggleable__label-arrow\">DecisionTreeRegressor</label><div class=\"sk-toggleable__content\"><pre>DecisionTreeRegressor(max_depth=8, random_state=0)</pre></div></div></div></div></div>"
            ]
          },
          "metadata": {},
          "execution_count": 19
        }
      ]
    },
    {
      "cell_type": "markdown",
      "source": [
        "### AdaBoost"
      ],
      "metadata": {
        "id": "qGUlu78dejvv"
      }
    },
    {
      "cell_type": "code",
      "source": [
        "modelo_adaboost.fit(X_train, y_train)"
      ],
      "metadata": {
        "colab": {
          "base_uri": "https://localhost:8080/",
          "height": 153
        },
        "id": "yP96vjauemDX",
        "outputId": "24a9a0b5-2b4c-43b0-ae6d-9d133b2ae5b8"
      },
      "execution_count": 20,
      "outputs": [
        {
          "output_type": "stream",
          "name": "stderr",
          "text": [
            "/usr/local/lib/python3.10/dist-packages/sklearn/ensemble/_base.py:166: FutureWarning: `base_estimator` was renamed to `estimator` in version 1.2 and will be removed in 1.4.\n",
            "  warnings.warn(\n"
          ]
        },
        {
          "output_type": "execute_result",
          "data": {
            "text/plain": [
              "AdaBoostRegressor(base_estimator=DecisionTreeRegressor(max_depth=2),\n",
              "                  n_estimators=100)"
            ],
            "text/html": [
              "<style>#sk-container-id-4 {color: black;background-color: white;}#sk-container-id-4 pre{padding: 0;}#sk-container-id-4 div.sk-toggleable {background-color: white;}#sk-container-id-4 label.sk-toggleable__label {cursor: pointer;display: block;width: 100%;margin-bottom: 0;padding: 0.3em;box-sizing: border-box;text-align: center;}#sk-container-id-4 label.sk-toggleable__label-arrow:before {content: \"▸\";float: left;margin-right: 0.25em;color: #696969;}#sk-container-id-4 label.sk-toggleable__label-arrow:hover:before {color: black;}#sk-container-id-4 div.sk-estimator:hover label.sk-toggleable__label-arrow:before {color: black;}#sk-container-id-4 div.sk-toggleable__content {max-height: 0;max-width: 0;overflow: hidden;text-align: left;background-color: #f0f8ff;}#sk-container-id-4 div.sk-toggleable__content pre {margin: 0.2em;color: black;border-radius: 0.25em;background-color: #f0f8ff;}#sk-container-id-4 input.sk-toggleable__control:checked~div.sk-toggleable__content {max-height: 200px;max-width: 100%;overflow: auto;}#sk-container-id-4 input.sk-toggleable__control:checked~label.sk-toggleable__label-arrow:before {content: \"▾\";}#sk-container-id-4 div.sk-estimator input.sk-toggleable__control:checked~label.sk-toggleable__label {background-color: #d4ebff;}#sk-container-id-4 div.sk-label input.sk-toggleable__control:checked~label.sk-toggleable__label {background-color: #d4ebff;}#sk-container-id-4 input.sk-hidden--visually {border: 0;clip: rect(1px 1px 1px 1px);clip: rect(1px, 1px, 1px, 1px);height: 1px;margin: -1px;overflow: hidden;padding: 0;position: absolute;width: 1px;}#sk-container-id-4 div.sk-estimator {font-family: monospace;background-color: #f0f8ff;border: 1px dotted black;border-radius: 0.25em;box-sizing: border-box;margin-bottom: 0.5em;}#sk-container-id-4 div.sk-estimator:hover {background-color: #d4ebff;}#sk-container-id-4 div.sk-parallel-item::after {content: \"\";width: 100%;border-bottom: 1px solid gray;flex-grow: 1;}#sk-container-id-4 div.sk-label:hover label.sk-toggleable__label {background-color: #d4ebff;}#sk-container-id-4 div.sk-serial::before {content: \"\";position: absolute;border-left: 1px solid gray;box-sizing: border-box;top: 0;bottom: 0;left: 50%;z-index: 0;}#sk-container-id-4 div.sk-serial {display: flex;flex-direction: column;align-items: center;background-color: white;padding-right: 0.2em;padding-left: 0.2em;position: relative;}#sk-container-id-4 div.sk-item {position: relative;z-index: 1;}#sk-container-id-4 div.sk-parallel {display: flex;align-items: stretch;justify-content: center;background-color: white;position: relative;}#sk-container-id-4 div.sk-item::before, #sk-container-id-4 div.sk-parallel-item::before {content: \"\";position: absolute;border-left: 1px solid gray;box-sizing: border-box;top: 0;bottom: 0;left: 50%;z-index: -1;}#sk-container-id-4 div.sk-parallel-item {display: flex;flex-direction: column;z-index: 1;position: relative;background-color: white;}#sk-container-id-4 div.sk-parallel-item:first-child::after {align-self: flex-end;width: 50%;}#sk-container-id-4 div.sk-parallel-item:last-child::after {align-self: flex-start;width: 50%;}#sk-container-id-4 div.sk-parallel-item:only-child::after {width: 0;}#sk-container-id-4 div.sk-dashed-wrapped {border: 1px dashed gray;margin: 0 0.4em 0.5em 0.4em;box-sizing: border-box;padding-bottom: 0.4em;background-color: white;}#sk-container-id-4 div.sk-label label {font-family: monospace;font-weight: bold;display: inline-block;line-height: 1.2em;}#sk-container-id-4 div.sk-label-container {text-align: center;}#sk-container-id-4 div.sk-container {/* jupyter's `normalize.less` sets `[hidden] { display: none; }` but bootstrap.min.css set `[hidden] { display: none !important; }` so we also need the `!important` here to be able to override the default hidden behavior on the sphinx rendered scikit-learn.org. See: https://github.com/scikit-learn/scikit-learn/issues/21755 */display: inline-block !important;position: relative;}#sk-container-id-4 div.sk-text-repr-fallback {display: none;}</style><div id=\"sk-container-id-4\" class=\"sk-top-container\"><div class=\"sk-text-repr-fallback\"><pre>AdaBoostRegressor(base_estimator=DecisionTreeRegressor(max_depth=2),\n",
              "                  n_estimators=100)</pre><b>In a Jupyter environment, please rerun this cell to show the HTML representation or trust the notebook. <br />On GitHub, the HTML representation is unable to render, please try loading this page with nbviewer.org.</b></div><div class=\"sk-container\" hidden><div class=\"sk-item sk-dashed-wrapped\"><div class=\"sk-label-container\"><div class=\"sk-label sk-toggleable\"><input class=\"sk-toggleable__control sk-hidden--visually\" id=\"sk-estimator-id-4\" type=\"checkbox\" ><label for=\"sk-estimator-id-4\" class=\"sk-toggleable__label sk-toggleable__label-arrow\">AdaBoostRegressor</label><div class=\"sk-toggleable__content\"><pre>AdaBoostRegressor(base_estimator=DecisionTreeRegressor(max_depth=2),\n",
              "                  n_estimators=100)</pre></div></div></div><div class=\"sk-parallel\"><div class=\"sk-parallel-item\"><div class=\"sk-item\"><div class=\"sk-label-container\"><div class=\"sk-label sk-toggleable\"><input class=\"sk-toggleable__control sk-hidden--visually\" id=\"sk-estimator-id-5\" type=\"checkbox\" ><label for=\"sk-estimator-id-5\" class=\"sk-toggleable__label sk-toggleable__label-arrow\">base_estimator: DecisionTreeRegressor</label><div class=\"sk-toggleable__content\"><pre>DecisionTreeRegressor(max_depth=2)</pre></div></div></div><div class=\"sk-serial\"><div class=\"sk-item\"><div class=\"sk-estimator sk-toggleable\"><input class=\"sk-toggleable__control sk-hidden--visually\" id=\"sk-estimator-id-6\" type=\"checkbox\" ><label for=\"sk-estimator-id-6\" class=\"sk-toggleable__label sk-toggleable__label-arrow\">DecisionTreeRegressor</label><div class=\"sk-toggleable__content\"><pre>DecisionTreeRegressor(max_depth=2)</pre></div></div></div></div></div></div></div></div></div></div>"
            ]
          },
          "metadata": {},
          "execution_count": 20
        }
      ]
    },
    {
      "cell_type": "markdown",
      "source": [
        "### Avaliando modelos"
      ],
      "metadata": {
        "id": "eYeE7ak8dcfS"
      }
    },
    {
      "cell_type": "code",
      "source": [
        "# Fazer previsões\n",
        "y_pred_XGBoost = modelo_XGBoost.predict(X_test)\n",
        "y_pred_LightGBM = modelo_LightGBM.predict(X_test)\n",
        "y_pred_CatBoost = modelo_catboost.predict(X_test)\n",
        "y_pred_DecisionTree = modelo_decision_tree.predict(X_test)\n",
        "y_pred_AdaBoost = modelo_adaboost.predict(X_test)\n",
        "\n",
        "# Avaliar os modelos\n",
        "mse_XGBoost = mean_squared_error(y_test, y_pred_XGBoost)\n",
        "rmse_XGBoost = mean_absolute_error(y_test, y_pred_XGBoost)\n",
        "r2_XGBoost = r2_score(y_test, y_pred_XGBoost)\n",
        "\n",
        "mse_LightGBM = mean_squared_error(y_test, y_pred_LightGBM)\n",
        "rmse_LightGBM = mean_absolute_error(y_test, y_pred_LightGBM)\n",
        "r2_LightGBM = r2_score(y_test, y_pred_LightGBM)\n",
        "\n",
        "mse_CatBoost = mean_squared_error(y_test, y_pred_CatBoost)\n",
        "rmse_CatBoost = mean_absolute_error(y_test, y_pred_CatBoost)\n",
        "r2_CatBoost = r2_score(y_test, y_pred_CatBoost)\n",
        "\n",
        "mse_DecisionTree = mean_squared_error(y_test, y_pred_DecisionTree)\n",
        "rmse_DecisionTree = mean_absolute_error(y_test, y_pred_DecisionTree)\n",
        "r2_DecisionTree = r2_score(y_test, y_pred_DecisionTree)\n",
        "\n",
        "mse_AdaBoost = mean_squared_error(y_test, y_pred_AdaBoost)\n",
        "rmse_AdaBoost = mean_absolute_error(y_test, y_pred_AdaBoost)\n",
        "r2_AdaBoost = r2_score(y_test, y_pred_AdaBoost)\n",
        "\n",
        "# Exibir os resultados\n",
        "print(\"XGBoost:\")\n",
        "print(f'Mean Squared Error: {mse_XGBoost}')\n",
        "print(f\"RMSE: {rmse_XGBoost}\\n\")\n",
        "print(f'R-squared: {r2_XGBoost}\\n')\n",
        "\n",
        "print(\"LightGBM:\")\n",
        "print(f'Mean Squared Error: {mse_LightGBM}')\n",
        "print(f\"RMSE: {rmse_LightGBM}\\n\")\n",
        "print(f'R-squared: {r2_LightGBM}\\n')\n",
        "\n",
        "print(\"CatBoost:\")\n",
        "print(f'Mean Squared Error: {mse_CatBoost}')\n",
        "print(f\"RMSE: {rmse_CatBoost}\\n\")\n",
        "print(f'R-squared: {r2_CatBoost}\\n')\n",
        "\n",
        "print(\"Decision Tree:\")\n",
        "print(f'Mean Squared Error: {mse_DecisionTree}')\n",
        "print(f\"RMSE: {rmse_DecisionTree}\\n\")\n",
        "print(f'R-squared: {r2_DecisionTree}\\n')\n",
        "\n",
        "print(\"AdaBoost:\")\n",
        "print(f'Mean Squared Error: {mse_AdaBoost}')\n",
        "print(f\"RMSE: {rmse_AdaBoost}\\n\")\n",
        "print(f'R-squared: {r2_AdaBoost}')"
      ],
      "metadata": {
        "colab": {
          "base_uri": "https://localhost:8080/"
        },
        "id": "6tXq28btVE_d",
        "outputId": "cb0371e6-d9b9-41cd-b776-6212ffabd887"
      },
      "execution_count": 21,
      "outputs": [
        {
          "output_type": "stream",
          "name": "stdout",
          "text": [
            "XGBoost:\n",
            "Mean Squared Error: 167.76581035250888\n",
            "RMSE: 10.385634915582065\n",
            "\n",
            "R-squared: 0.8277486918490295\n",
            "\n",
            "LightGBM:\n",
            "Mean Squared Error: 191.04383009350255\n",
            "RMSE: 11.04953239873479\n",
            "\n",
            "R-squared: 0.8038482955577639\n",
            "\n",
            "CatBoost:\n",
            "Mean Squared Error: 246.93060339038846\n",
            "RMSE: 12.330941675295488\n",
            "\n",
            "R-squared: 0.7464672964823384\n",
            "\n",
            "Decision Tree:\n",
            "Mean Squared Error: 0.0\n",
            "RMSE: 0.0\n",
            "\n",
            "R-squared: 1.0\n",
            "\n",
            "AdaBoost:\n",
            "Mean Squared Error: 139.3801160189824\n",
            "RMSE: 9.391898677006479\n",
            "\n",
            "R-squared: 0.856893324902986\n"
          ]
        }
      ]
    },
    {
      "cell_type": "markdown",
      "source": [
        "*    XGBoost se destaca: Com o menor MSE (167.77) e RMSE (10.39), o XGBoost apresenta o melhor desempenho em termos de precisão de previsão.\n",
        "*    AdaBoost surpreende, apesar de não ser o modelo com o menor erro médio, o AdaBoost obteve um MSE (139.38) e RMSE (9.39) bem próximos do XGBoost, indicando uma performance surpreendentemente boa.\n",
        "*    LightGBM e CatBoost apresentam desempenho mediano, embora LightGBM (MSE: 191.04, RMSE: 11.05) e CatBoost (MSE: 246.93, RMSE: 12.33) tenham ficado atrás do XGBoost, eles ainda apresentam resultados razoáveis.\n",
        "*    Árvore de Decisão é suspeita o modelo de Árvore de Decisão obteve MSE e RMSE iguais a zero, o que é improvável. Provavelmente ocorreu overfitting, onde o modelo se adapta demais aos dados de treino e não generaliza bem para dados novos."
      ],
      "metadata": {
        "id": "XNUOq3rBorLu"
      }
    },
    {
      "cell_type": "markdown",
      "source": [
        "### Visualizar as previsões"
      ],
      "metadata": {
        "id": "RE3408zjd8Mc"
      }
    },
    {
      "cell_type": "markdown",
      "source": [
        "### Previsões XGBoost"
      ],
      "metadata": {
        "id": "-GOUaILseB8s"
      }
    },
    {
      "cell_type": "code",
      "source": [
        "plt.figure(figsize=(10, 6))\n",
        "plt.scatter(y_test, y_pred_XGBoost, alpha=0.3)\n",
        "plt.plot([y.min(), y.max()], [y.min(), y.max()], 'r--', lw=2)\n",
        "plt.xlabel('Valores Reais')\n",
        "plt.ylabel('Valores Preditos')\n",
        "plt.title('Previsões XGBoost vs. Valores Reais')\n",
        "plt.show()"
      ],
      "metadata": {
        "colab": {
          "base_uri": "https://localhost:8080/",
          "height": 564
        },
        "id": "e-9F_a2OVwND",
        "outputId": "54817643-a598-42ec-b5dd-2a391f953387"
      },
      "execution_count": 22,
      "outputs": [
        {
          "output_type": "display_data",
          "data": {
            "text/plain": [
              "<Figure size 1000x600 with 1 Axes>"
            ],
            "image/png": "[encoded data removed]"
          },
          "metadata": {}
        }
      ]
    },
    {
      "cell_type": "markdown",
      "source": [
        "### Previsões LightGBM"
      ],
      "metadata": {
        "id": "hVt0U-N1eO5y"
      }
    },
    {
      "cell_type": "code",
      "source": [
        "plt.figure(figsize=(10, 6))\n",
        "plt.scatter(y_test, y_pred_LightGBM, alpha=0.3)\n",
        "plt.plot([y.min(), y.max()], [y.min(), y.max()], 'r--', lw=2)\n",
        "plt.xlabel('Valores Reais')\n",
        "plt.ylabel('Valores Preditos')\n",
        "plt.title('Previsões LightGBM vs. Valores Reais')\n",
        "plt.show()"
      ],
      "metadata": {
        "colab": {
          "base_uri": "https://localhost:8080/",
          "height": 564
        },
        "id": "CXCNGTv5WUtw",
        "outputId": "a8ee33b1-239b-43a2-8ad9-39e4deac7eca"
      },
      "execution_count": 23,
      "outputs": [
        {
          "output_type": "display_data",
          "data": {
            "text/plain": [
              "<Figure size 1000x600 with 1 Axes>"
            ],
            "image/png": "[encoded data removed]"
          },
          "metadata": {}
        }
      ]
    },
    {
      "cell_type": "markdown",
      "source": [
        "### Previsões CatBoost"
      ],
      "metadata": {
        "id": "CTAA0IZEeSZU"
      }
    },
    {
      "cell_type": "code",
      "source": [
        "plt.figure(figsize=(10, 6))\n",
        "plt.scatter(y_test, y_pred_CatBoost, alpha=0.3)\n",
        "plt.plot([y.min(), y.max()], [y.min(), y.max()], 'r--', lw=2)\n",
        "plt.xlabel('Valores Reais')\n",
        "plt.ylabel('Valores Preditos')\n",
        "plt.title('Previsões CatBoost vs. Valores Reais')\n",
        "plt.show()"
      ],
      "metadata": {
        "colab": {
          "base_uri": "https://localhost:8080/",
          "height": 564
        },
        "id": "o5nW398leSGG",
        "outputId": "b7d54ab5-8aa9-4a30-80a0-df299f5f77f6"
      },
      "execution_count": 24,
      "outputs": [
        {
          "output_type": "display_data",
          "data": {
            "text/plain": [
              "<Figure size 1000x600 with 1 Axes>"
            ],
            "image/png": "[encoded data removed]"
          },
          "metadata": {}
        }
      ]
    },
    {
      "cell_type": "markdown",
      "source": [
        "### Previsões DecisionTree"
      ],
      "metadata": {
        "id": "Xe72dcIzebZG"
      }
    },
    {
      "cell_type": "code",
      "source": [
        "plt.figure(figsize=(10, 6))\n",
        "plt.scatter(y_test, y_pred_DecisionTree, alpha=0.3)\n",
        "plt.plot([y.min(), y.max()], [y.min(), y.max()], 'r--', lw=2)\n",
        "plt.xlabel('Valores Reais')\n",
        "plt.ylabel('Valores Preditos')\n",
        "plt.title('Previsões DecisionTree vs. Valores Reais')\n",
        "plt.show()"
      ],
      "metadata": {
        "colab": {
          "base_uri": "https://localhost:8080/",
          "height": 564
        },
        "id": "s8NP3AhneZ_5",
        "outputId": "f4836325-2463-4441-8e2f-61db68814f10"
      },
      "execution_count": 25,
      "outputs": [
        {
          "output_type": "display_data",
          "data": {
            "text/plain": [
              "<Figure size 1000x600 with 1 Axes>"
            ],
            "image/png": "[encoded data removed]"
          },
          "metadata": {}
        }
      ]
    },
    {
      "cell_type": "markdown",
      "source": [
        "### AdaBoost"
      ],
      "metadata": {
        "id": "MC21J1ynfHNQ"
      }
    },
    {
      "cell_type": "code",
      "source": [
        "plt.figure(figsize=(10, 6))\n",
        "plt.scatter(y_test, y_pred_AdaBoost, alpha=0.3)\n",
        "plt.plot([y.min(), y.max()], [y.min(), y.max()], 'r--', lw=2)\n",
        "plt.xlabel('Valores Reais')\n",
        "plt.ylabel('Valores Preditos')\n",
        "plt.title('Previsões AdaBoost vs. Valores Reais')\n",
        "plt.show()"
      ],
      "metadata": {
        "colab": {
          "base_uri": "https://localhost:8080/",
          "height": 564
        },
        "id": "-_sawCP_e951",
        "outputId": "4a9a28c6-4244-4ef6-bfe6-c4f5d18f52c3"
      },
      "execution_count": 26,
      "outputs": [
        {
          "output_type": "display_data",
          "data": {
            "text/plain": [
              "<Figure size 1000x600 with 1 Axes>"
            ],
            "image/png": "[encoded data removed]"
          },
          "metadata": {}
        }
      ]
    },
    {
      "cell_type": "markdown",
      "source": [
        "# Análise dos resultados de regressão"
      ],
      "metadata": {
        "id": "eks4emnyiGGI"
      }
    },
    {
      "cell_type": "markdown",
      "source": [
        "Analisando os resultados de regressão fornecidos, podemos observar alguns pontos interessantes:\n",
        "\n",
        "1. Erro Médio Quadrático (MSE) e Root Mean Squared Error (RMSE):\n",
        "\n",
        "    *    XGBoost apresentou o menor MSE (167.77) e RMSE (10.39), indicando o melhor desempenho em termos de precisão de previsão.\n",
        "    *    LightGBM seguiu de perto, com valores um pouco maiores de MSE (191.04) e RMSE (11.05).\n",
        "    *    CatBoost e AdaBoost tiveram desempenho inferior, com MSE e RMSE maiores.\n",
        "    *    O modelo de Árvore de Decisão obteve MSE e RMSE iguais a zero, o que parece suspeito. É provável que tenha ocorrido overfitting, onde o modelo se adapta demais aos dados de treino e não generaliza bem para dados novos.\n",
        "\n",
        "2. R-quadrado (R²):\n",
        "\n",
        "    *    XGBoost novamente se destaca com o maior R² (0.8277), indicando que explica 82.77% da variância da variável resposta.\n",
        "    *    LightGBM também obteve um R² alto (0.8038).\n",
        "    *    CatBoost e AdaBoost apresentaram R² menores, indicando menor poder explicativo.\n",
        "    *    O alto R² da Árvore de Decisão corrobora o overfitting, pois o modelo se ajusta demais aos dados de treino, capturando até mesmo ruído, o que inflaciona o R².\n",
        "\n",
        "\n",
        "3. Resumo:\n",
        "\n",
        "    *    XGBoost apresenta o melhor desempenho geral, com um bom equilíbrio entre baixa MSE e alta R².\n",
        "\n",
        "    *    LightGBM também tem um bom desempenho, ligeiramente inferior ao XGBoost.\n",
        "\n",
        "    *    CatBoost é razoável, mas menos preciso que os outros dois.\n",
        "\n",
        "    *    Decision Tree mostra sinais de overfitting, não sendo ideal para generalização em novos dados.\n",
        "\n",
        "Para escolher um modelo para produção, XGBoost seria a melhor escolha devido ao seu desempenho equilibrado e robustez.\n",
        "\n"
      ],
      "metadata": {
        "id": "osOhfQXniHlM"
      }
    },
    {
      "cell_type": "markdown",
      "source": [
        "## Entendendo melhor as métricas de Avaliação em Regressão.\n",
        "\n"
      ],
      "metadata": {
        "id": "Fa9XT64UjQLJ"
      }
    },
    {
      "cell_type": "markdown",
      "source": [
        "1. Erro Médio Quadrático (MSE): A Soma dos Quadrados dos Erros\n",
        "\n",
        "    *    O MSE, como o próprio nome sugere, calcula a média da soma dos quadrados dos erros entre os valores previstos pelo modelo e os valores reais observados. Imagine que você tem diversas previsões e seus erros respectivos. O MSE pega esses erros, eleva cada um ao quadrado, soma todos eles e divide essa soma pela quantidade de erros.\n",
        "\n",
        "    *   Mas por que elevar ao quadrado?\n",
        "\n",
        "    *    Dando mais peso a erros maiores ao elevar ao quadrado, erros maiores se tornam mais \"penalizados\" do que erros menores. Isso é importante porque, em muitos casos, erramos por pouco é aceitável, mas errar muito pode ter consequências sérias. O MSE garante que esses erros grandes não sejam ignorados.\n",
        "\n",
        "\n",
        "2. R-quadrado (R²): Explicando a Variância\n",
        "\n",
        "    *    O R², por outro lado, vai além da simples avaliação do erro. Ele busca entender qual porcentagem da variância da variável resposta (aquela que queremos prever) é explicada pelo modelo. Em outras palavras, o R² nos diz o quão bem o modelo consegue \"justificar\" a variação observada nos dados.\n",
        "\n",
        "    *    Valores do R² e suas interpretações:\n",
        "\n",
        "    *    R² = 0: O modelo não explica nada da variância da variável resposta. É como se ele fosse aleatório.\n",
        "\n",
        "    *    0 < R² < 1: O modelo explica alguma parte da variância, mas nem tudo. Quanto maior o R², melhor o modelo.\n",
        "\n",
        "    *     R² = 1: O modelo explica 100% da variância da variável resposta. Isso é perfeito, mas não realista.\n",
        "\n",
        "\n",
        "\n",
        "3. Root Mean Squared Error (RMSE)\n",
        "\n",
        "   *    O RMSE, como o nome sugere, é a raiz quadrada do MSE. Ele dá a média dos erros em sua unidade original. Isso facilita a interpretação do erro, pois nos coloca na mesma escala das variáveis do problema."
      ],
      "metadata": {
        "id": "sB7FKAF6jz-y"
      }
    },
    {
      "cell_type": "markdown",
      "source": [
        "# Conclusão\n",
        "\n",
        "Insights:\n",
        "\n",
        "1. Neste notebook, foram desenvolvido varaios modelos preditivos para predição de controle de estoque.\n",
        "2. O modelo escolhido como o melhor performance para prever o controle de estoque foi o modelo XGBoost.\n",
        "3. Foram consideradas diversas variáveis na construção do modelo. Os insights obtidos na etapa de análise exploratória de dados serviram de guia para a tarefa de pré-processamento de dados, necessária para a aplicação de algoritmos de machine learning.\n",
        "4. O resultado obtido foi satisfatório, porém há espaço para melhorias:\n",
        "    *    XGBoost apresentou o menor MSE (167.77) e RMSE (10.39), indicando o melhor desempenho em termos de precisão de previsão.\n",
        "    *    XGBoost se destaca com o maior R² (0.8277), indicando que explica 82.77% da variância da variável resposta."
      ],
      "metadata": {
        "id": "sXV0L7NRk1V8"
      }
    }
  ]
}